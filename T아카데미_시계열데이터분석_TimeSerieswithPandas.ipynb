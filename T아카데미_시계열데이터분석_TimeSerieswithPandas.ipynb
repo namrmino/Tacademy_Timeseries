{
  "nbformat": 4,
  "nbformat_minor": 0,
  "metadata": {
    "colab": {
      "name": "T아카데미_시계열데이터분석_TimeSerieswithPandas.ipynb",
      "provenance": [],
      "collapsed_sections": [],
      "mount_file_id": "1Z-19tF19kuPyCKcF6qM8NumIcLJG0Sn4",
      "authorship_tag": "ABX9TyNPP54aiMKQFBgVG4+qPf/C"
    },
    "kernelspec": {
      "name": "python3",
      "display_name": "Python 3"
    }
  },
  "cells": [
    {
      "cell_type": "markdown",
      "metadata": {
        "id": "x6tyUup6fuAU"
      },
      "source": [
        "# 시계열 데이터 분석 with Pandas\r\n",
        "* Time Series with Pandas\r\n",
        "* 시계열 데이터 특성\r\n",
        "* ETS 모델\r\n",
        "* SMA, WMA, SES 모델\r\n",
        "* ARIMA 모델"
      ]
    },
    {
      "cell_type": "markdown",
      "metadata": {
        "id": "cB7KoasIf7Cp"
      },
      "source": [
        "시계열 데이터는 시간 데이터를 인덱스로 하는 연속된 데이터 입니다.\r\n",
        "\r\n",
        "시간 데이터를 Python의 DateTime타입으로 바꾸어 Pandas가 제공하는 시계열 데이터를 처리하는 아래 기능들을 학습합니다.\r\n",
        "\r\n",
        "* DateTime 인덱스\r\n",
        "* Time Resampling\r\n",
        "* Time Shifts\r\n",
        "* Rolling and Expanding"
      ]
    },
    {
      "cell_type": "markdown",
      "metadata": {
        "id": "WDHfXLZigR6M"
      },
      "source": [
        "* DateTime Index\r\n",
        "  * time 또는 date 정보는 별개의 칼럼이기보다 인덱스인 경우가 많습니다.\r\n",
        "\r\n",
        "  * Pandas에 내장된 기능들로 DateTime인덱스를 생성하고 활용하는 방법을 다룹니다."
      ]
    },
    {
      "cell_type": "markdown",
      "metadata": {
        "id": "GPAa9uy0ghcR"
      },
      "source": [
        "* Time Resampling\r\n",
        "  * 시계열 데이터의 인덱스는 시(hours), 분(minutes) 등 작은 단위 DateTime인덱스로 이뤄진 경우도 많습니다.\r\n",
        "  * 더 넓은 주기로 데이터를 집계(aggregate) 해야 하는 경우 Time Resampling이 필요합니다.\r\n",
        "  * groupby를 사용함으로써 Time Resampling을 수행할 수는 있지만, 비지니스 도메인에서 분기나 회계년도를 편리하게 처리할 방법은 못됩니다.\r\n",
        "  * Pandas는 이런 경우에 활용할 수 있는 frequency sampling 도구를 지원합니다."
      ]
    },
    {
      "cell_type": "markdown",
      "metadata": {
        "id": "hz_EMv7ZhAlf"
      },
      "source": [
        "* Time Shifts\r\n",
        "  * 시계열 분석 알고리즘을 사용하기 위해 데이터를 임의 시간만큼 앞 또는 뒤로 이동시켜야 할 때가 있습니다.\r\n",
        "  * Pandas는 이런 경우에도 매우 쉬운 방법을 제공합니다."
      ]
    },
    {
      "cell_type": "markdown",
      "metadata": {
        "id": "VDtGnRehhXRT"
      },
      "source": [
        "* Rolling and Expanding\r\n",
        "  * 매일 수집한 데이터들에는 노이즈가 포함되기도 합니다.\r\n",
        "  * 이럴 경우 데이터의 일반적인 트렌드를 구하기 위해 rolling mean (또는 moving average)을 사용하기도 합니다.\r\n",
        "  * Pandas에 내장된 rolling 함수를 이용하면 주어진 시한 내 평균(rolling mean) 등을 구할 수 있습니다.\r\n",
        "  * 임의 시간 간격의 window를 만들고 그 안에서 mean 같은 통계적 aggregation을 실행하면 됩니다."
      ]
    },
    {
      "cell_type": "markdown",
      "metadata": {
        "id": "SHidLyAXmYU5"
      },
      "source": [
        "* 볼린저 밴드 (Bollinger Band)"
      ]
    },
    {
      "cell_type": "code",
      "metadata": {
        "id": "R12UA-0efM4L"
      },
      "source": [
        "import numpy as np\r\n",
        "import pandas as pd\r\n",
        "import matplotlib.pyplot as plt\r\n",
        "import warnings\r\n",
        "warnings.filterwarnings(action='ignore')"
      ],
      "execution_count": null,
      "outputs": []
    },
    {
      "cell_type": "code",
      "metadata": {
        "id": "21_NlOoqmhe5"
      },
      "source": [
        "from datetime import datetime"
      ],
      "execution_count": null,
      "outputs": []
    },
    {
      "cell_type": "code",
      "metadata": {
        "id": "tuMwWwwSmlNP"
      },
      "source": [
        "today = datetime(2021,2,22)"
      ],
      "execution_count": null,
      "outputs": []
    },
    {
      "cell_type": "code",
      "metadata": {
        "colab": {
          "base_uri": "https://localhost:8080/"
        },
        "id": "9uQHUSWgmsiw",
        "outputId": "8d7a3e1b-6e70-4c9f-b428-a13e70d70952"
      },
      "source": [
        "today"
      ],
      "execution_count": null,
      "outputs": [
        {
          "output_type": "execute_result",
          "data": {
            "text/plain": [
              "datetime.datetime(2021, 2, 22, 0, 0)"
            ]
          },
          "metadata": {
            "tags": []
          },
          "execution_count": 123
        }
      ]
    },
    {
      "cell_type": "code",
      "metadata": {
        "colab": {
          "base_uri": "https://localhost:8080/"
        },
        "id": "iB2KNrqtmtp3",
        "outputId": "47495777-f42a-42f6-a986-a948b4ddbeb4"
      },
      "source": [
        "today.day"
      ],
      "execution_count": null,
      "outputs": [
        {
          "output_type": "execute_result",
          "data": {
            "text/plain": [
              "22"
            ]
          },
          "metadata": {
            "tags": []
          },
          "execution_count": 124
        }
      ]
    },
    {
      "cell_type": "code",
      "metadata": {
        "colab": {
          "base_uri": "https://localhost:8080/"
        },
        "id": "h4WMnvTrm3rY",
        "outputId": "b7e209bb-c6ce-4a5f-9886-d9d71b967373"
      },
      "source": [
        "today.year"
      ],
      "execution_count": null,
      "outputs": [
        {
          "output_type": "execute_result",
          "data": {
            "text/plain": [
              "2021"
            ]
          },
          "metadata": {
            "tags": []
          },
          "execution_count": 125
        }
      ]
    },
    {
      "cell_type": "code",
      "metadata": {
        "colab": {
          "base_uri": "https://localhost:8080/"
        },
        "id": "P9uKfL6Cm4W2",
        "outputId": "227fd4d1-7315-4570-af05-b555b250ef24"
      },
      "source": [
        "today.month"
      ],
      "execution_count": null,
      "outputs": [
        {
          "output_type": "execute_result",
          "data": {
            "text/plain": [
              "2"
            ]
          },
          "metadata": {
            "tags": []
          },
          "execution_count": 126
        }
      ]
    },
    {
      "cell_type": "code",
      "metadata": {
        "colab": {
          "base_uri": "https://localhost:8080/"
        },
        "id": "WqnuApyOm4aw",
        "outputId": "5aeb900c-1f24-4f35-9502-363cd77d82a2"
      },
      "source": [
        "dates = [datetime(2021,2,21),datetime(2021,2,22)]\r\n",
        "dates"
      ],
      "execution_count": null,
      "outputs": [
        {
          "output_type": "execute_result",
          "data": {
            "text/plain": [
              "[datetime.datetime(2021, 2, 21, 0, 0), datetime.datetime(2021, 2, 22, 0, 0)]"
            ]
          },
          "metadata": {
            "tags": []
          },
          "execution_count": 127
        }
      ]
    },
    {
      "cell_type": "code",
      "metadata": {
        "colab": {
          "base_uri": "https://localhost:8080/"
        },
        "id": "1kQA9Htfm4d7",
        "outputId": "0c434155-07ff-4bf4-8647-c7dea0756a0d"
      },
      "source": [
        "dt_index = pd.DatetimeIndex(dates)\r\n",
        "dt_index"
      ],
      "execution_count": null,
      "outputs": [
        {
          "output_type": "execute_result",
          "data": {
            "text/plain": [
              "DatetimeIndex(['2021-02-21', '2021-02-22'], dtype='datetime64[ns]', freq=None)"
            ]
          },
          "metadata": {
            "tags": []
          },
          "execution_count": 128
        }
      ]
    },
    {
      "cell_type": "code",
      "metadata": {
        "id": "7JatHQmFnaDE"
      },
      "source": [
        "data = np.random.randn(2,2)"
      ],
      "execution_count": null,
      "outputs": []
    },
    {
      "cell_type": "code",
      "metadata": {
        "id": "NcNZEYPeneAr"
      },
      "source": [
        "cols = ['A','B']"
      ],
      "execution_count": null,
      "outputs": []
    },
    {
      "cell_type": "code",
      "metadata": {
        "id": "pRptjKRzm4hE"
      },
      "source": [
        "df = pd.DataFrame(data=data, index=dt_index, columns=cols)"
      ],
      "execution_count": null,
      "outputs": []
    },
    {
      "cell_type": "code",
      "metadata": {
        "colab": {
          "base_uri": "https://localhost:8080/"
        },
        "id": "w16ypx1km4nF",
        "outputId": "8c9a301e-642b-4479-8cb3-0ca694bcbe25"
      },
      "source": [
        "df.index.max()"
      ],
      "execution_count": null,
      "outputs": [
        {
          "output_type": "execute_result",
          "data": {
            "text/plain": [
              "Timestamp('2021-02-22 00:00:00')"
            ]
          },
          "metadata": {
            "tags": []
          },
          "execution_count": 132
        }
      ]
    },
    {
      "cell_type": "code",
      "metadata": {
        "colab": {
          "base_uri": "https://localhost:8080/"
        },
        "id": "I9SJQ0tPm4qw",
        "outputId": "21818c00-c3a2-485b-921c-c457bd7eaec5"
      },
      "source": [
        "df.index.min()"
      ],
      "execution_count": null,
      "outputs": [
        {
          "output_type": "execute_result",
          "data": {
            "text/plain": [
              "Timestamp('2021-02-21 00:00:00')"
            ]
          },
          "metadata": {
            "tags": []
          },
          "execution_count": 133
        }
      ]
    },
    {
      "cell_type": "code",
      "metadata": {
        "colab": {
          "base_uri": "https://localhost:8080/"
        },
        "id": "V2UFMFBRm4s3",
        "outputId": "a1828e9d-ab5d-4310-88da-f90d6d01b376"
      },
      "source": [
        "df.index.argmax()"
      ],
      "execution_count": null,
      "outputs": [
        {
          "output_type": "execute_result",
          "data": {
            "text/plain": [
              "1"
            ]
          },
          "metadata": {
            "tags": []
          },
          "execution_count": 134
        }
      ]
    },
    {
      "cell_type": "code",
      "metadata": {
        "colab": {
          "base_uri": "https://localhost:8080/"
        },
        "id": "319ReVRrn4wF",
        "outputId": "a87ad4e1-39b0-4f3b-c928-d4bba735ad23"
      },
      "source": [
        "df.index.argmin()"
      ],
      "execution_count": null,
      "outputs": [
        {
          "output_type": "execute_result",
          "data": {
            "text/plain": [
              "0"
            ]
          },
          "metadata": {
            "tags": []
          },
          "execution_count": 135
        }
      ]
    },
    {
      "cell_type": "markdown",
      "metadata": {
        "id": "c62yZ9y_pvCs"
      },
      "source": [
        "# RESAMPLING"
      ]
    },
    {
      "cell_type": "code",
      "metadata": {
        "id": "1UOcWRN4n7fi"
      },
      "source": [
        "df = pd.read_csv('/content/drive/MyDrive/Colab Notebooks/tacademy_timeseries/apple_stock.csv')"
      ],
      "execution_count": null,
      "outputs": []
    },
    {
      "cell_type": "code",
      "metadata": {
        "colab": {
          "base_uri": "https://localhost:8080/",
          "height": 204
        },
        "id": "MSJzlgE6p11I",
        "outputId": "f7120309-0365-49a8-e4e1-bcbac34373bb"
      },
      "source": [
        "df.head()"
      ],
      "execution_count": null,
      "outputs": [
        {
          "output_type": "execute_result",
          "data": {
            "text/html": [
              "<div>\n",
              "<style scoped>\n",
              "    .dataframe tbody tr th:only-of-type {\n",
              "        vertical-align: middle;\n",
              "    }\n",
              "\n",
              "    .dataframe tbody tr th {\n",
              "        vertical-align: top;\n",
              "    }\n",
              "\n",
              "    .dataframe thead th {\n",
              "        text-align: right;\n",
              "    }\n",
              "</style>\n",
              "<table border=\"1\" class=\"dataframe\">\n",
              "  <thead>\n",
              "    <tr style=\"text-align: right;\">\n",
              "      <th></th>\n",
              "      <th>Date</th>\n",
              "      <th>High</th>\n",
              "      <th>Low</th>\n",
              "      <th>Open</th>\n",
              "      <th>Close</th>\n",
              "      <th>Volume</th>\n",
              "      <th>Adj Close</th>\n",
              "    </tr>\n",
              "  </thead>\n",
              "  <tbody>\n",
              "    <tr>\n",
              "      <th>0</th>\n",
              "      <td>2009-12-31</td>\n",
              "      <td>30.478571</td>\n",
              "      <td>30.080000</td>\n",
              "      <td>30.447144</td>\n",
              "      <td>30.104286</td>\n",
              "      <td>88102700.0</td>\n",
              "      <td>20.159719</td>\n",
              "    </tr>\n",
              "    <tr>\n",
              "      <th>1</th>\n",
              "      <td>2010-01-04</td>\n",
              "      <td>30.642857</td>\n",
              "      <td>30.340000</td>\n",
              "      <td>30.490000</td>\n",
              "      <td>30.572857</td>\n",
              "      <td>123432400.0</td>\n",
              "      <td>20.473503</td>\n",
              "    </tr>\n",
              "    <tr>\n",
              "      <th>2</th>\n",
              "      <td>2010-01-05</td>\n",
              "      <td>30.798571</td>\n",
              "      <td>30.464285</td>\n",
              "      <td>30.657143</td>\n",
              "      <td>30.625713</td>\n",
              "      <td>150476200.0</td>\n",
              "      <td>20.508902</td>\n",
              "    </tr>\n",
              "    <tr>\n",
              "      <th>3</th>\n",
              "      <td>2010-01-06</td>\n",
              "      <td>30.747143</td>\n",
              "      <td>30.107143</td>\n",
              "      <td>30.625713</td>\n",
              "      <td>30.138571</td>\n",
              "      <td>138040000.0</td>\n",
              "      <td>20.182680</td>\n",
              "    </tr>\n",
              "    <tr>\n",
              "      <th>4</th>\n",
              "      <td>2010-01-07</td>\n",
              "      <td>30.285715</td>\n",
              "      <td>29.864286</td>\n",
              "      <td>30.250000</td>\n",
              "      <td>30.082857</td>\n",
              "      <td>119282800.0</td>\n",
              "      <td>20.145369</td>\n",
              "    </tr>\n",
              "  </tbody>\n",
              "</table>\n",
              "</div>"
            ],
            "text/plain": [
              "         Date       High        Low  ...      Close       Volume  Adj Close\n",
              "0  2009-12-31  30.478571  30.080000  ...  30.104286   88102700.0  20.159719\n",
              "1  2010-01-04  30.642857  30.340000  ...  30.572857  123432400.0  20.473503\n",
              "2  2010-01-05  30.798571  30.464285  ...  30.625713  150476200.0  20.508902\n",
              "3  2010-01-06  30.747143  30.107143  ...  30.138571  138040000.0  20.182680\n",
              "4  2010-01-07  30.285715  29.864286  ...  30.082857  119282800.0  20.145369\n",
              "\n",
              "[5 rows x 7 columns]"
            ]
          },
          "metadata": {
            "tags": []
          },
          "execution_count": 137
        }
      ]
    },
    {
      "cell_type": "code",
      "metadata": {
        "colab": {
          "base_uri": "https://localhost:8080/"
        },
        "id": "66Kpf9wlqAf-",
        "outputId": "a68ad06f-4392-4573-b33a-2cecb443a4a4"
      },
      "source": [
        "df.info()"
      ],
      "execution_count": null,
      "outputs": [
        {
          "output_type": "stream",
          "text": [
            "<class 'pandas.core.frame.DataFrame'>\n",
            "RangeIndex: 2265 entries, 0 to 2264\n",
            "Data columns (total 7 columns):\n",
            " #   Column     Non-Null Count  Dtype  \n",
            "---  ------     --------------  -----  \n",
            " 0   Date       2265 non-null   object \n",
            " 1   High       2265 non-null   float64\n",
            " 2   Low        2265 non-null   float64\n",
            " 3   Open       2265 non-null   float64\n",
            " 4   Close      2265 non-null   float64\n",
            " 5   Volume     2265 non-null   float64\n",
            " 6   Adj Close  2265 non-null   float64\n",
            "dtypes: float64(6), object(1)\n",
            "memory usage: 124.0+ KB\n"
          ],
          "name": "stdout"
        }
      ]
    },
    {
      "cell_type": "code",
      "metadata": {
        "id": "nXy14_zrqEX2"
      },
      "source": [
        "df['Date'] = df['Date'].apply(pd.to_datetime)"
      ],
      "execution_count": null,
      "outputs": []
    },
    {
      "cell_type": "code",
      "metadata": {
        "colab": {
          "base_uri": "https://localhost:8080/"
        },
        "id": "eY0ybTZuqKgD",
        "outputId": "37b80541-35a9-44ce-a168-7d0c961bc431"
      },
      "source": [
        "df.info()"
      ],
      "execution_count": null,
      "outputs": [
        {
          "output_type": "stream",
          "text": [
            "<class 'pandas.core.frame.DataFrame'>\n",
            "RangeIndex: 2265 entries, 0 to 2264\n",
            "Data columns (total 7 columns):\n",
            " #   Column     Non-Null Count  Dtype         \n",
            "---  ------     --------------  -----         \n",
            " 0   Date       2265 non-null   datetime64[ns]\n",
            " 1   High       2265 non-null   float64       \n",
            " 2   Low        2265 non-null   float64       \n",
            " 3   Open       2265 non-null   float64       \n",
            " 4   Close      2265 non-null   float64       \n",
            " 5   Volume     2265 non-null   float64       \n",
            " 6   Adj Close  2265 non-null   float64       \n",
            "dtypes: datetime64[ns](1), float64(6)\n",
            "memory usage: 124.0 KB\n"
          ],
          "name": "stdout"
        }
      ]
    },
    {
      "cell_type": "code",
      "metadata": {
        "id": "_lB7DKKcqWhF"
      },
      "source": [
        "df.set_index('Date', inplace=True)"
      ],
      "execution_count": null,
      "outputs": []
    },
    {
      "cell_type": "code",
      "metadata": {
        "colab": {
          "base_uri": "https://localhost:8080/"
        },
        "id": "W3sj48k1qbWW",
        "outputId": "7fa84444-7ad0-4468-a87c-3c431db8d3ec"
      },
      "source": [
        "df.info()"
      ],
      "execution_count": null,
      "outputs": [
        {
          "output_type": "stream",
          "text": [
            "<class 'pandas.core.frame.DataFrame'>\n",
            "DatetimeIndex: 2265 entries, 2009-12-31 to 2018-12-31\n",
            "Data columns (total 6 columns):\n",
            " #   Column     Non-Null Count  Dtype  \n",
            "---  ------     --------------  -----  \n",
            " 0   High       2265 non-null   float64\n",
            " 1   Low        2265 non-null   float64\n",
            " 2   Open       2265 non-null   float64\n",
            " 3   Close      2265 non-null   float64\n",
            " 4   Volume     2265 non-null   float64\n",
            " 5   Adj Close  2265 non-null   float64\n",
            "dtypes: float64(6)\n",
            "memory usage: 123.9 KB\n"
          ],
          "name": "stdout"
        }
      ]
    },
    {
      "cell_type": "code",
      "metadata": {
        "colab": {
          "base_uri": "https://localhost:8080/",
          "height": 450
        },
        "id": "KUZG3mruqdtM",
        "outputId": "8cf705e9-bf45-4417-8cf4-6bbb9501cb63"
      },
      "source": [
        "df"
      ],
      "execution_count": null,
      "outputs": [
        {
          "output_type": "execute_result",
          "data": {
            "text/html": [
              "<div>\n",
              "<style scoped>\n",
              "    .dataframe tbody tr th:only-of-type {\n",
              "        vertical-align: middle;\n",
              "    }\n",
              "\n",
              "    .dataframe tbody tr th {\n",
              "        vertical-align: top;\n",
              "    }\n",
              "\n",
              "    .dataframe thead th {\n",
              "        text-align: right;\n",
              "    }\n",
              "</style>\n",
              "<table border=\"1\" class=\"dataframe\">\n",
              "  <thead>\n",
              "    <tr style=\"text-align: right;\">\n",
              "      <th></th>\n",
              "      <th>High</th>\n",
              "      <th>Low</th>\n",
              "      <th>Open</th>\n",
              "      <th>Close</th>\n",
              "      <th>Volume</th>\n",
              "      <th>Adj Close</th>\n",
              "    </tr>\n",
              "    <tr>\n",
              "      <th>Date</th>\n",
              "      <th></th>\n",
              "      <th></th>\n",
              "      <th></th>\n",
              "      <th></th>\n",
              "      <th></th>\n",
              "      <th></th>\n",
              "    </tr>\n",
              "  </thead>\n",
              "  <tbody>\n",
              "    <tr>\n",
              "      <th>2009-12-31</th>\n",
              "      <td>30.478571</td>\n",
              "      <td>30.080000</td>\n",
              "      <td>30.447144</td>\n",
              "      <td>30.104286</td>\n",
              "      <td>88102700.0</td>\n",
              "      <td>20.159719</td>\n",
              "    </tr>\n",
              "    <tr>\n",
              "      <th>2010-01-04</th>\n",
              "      <td>30.642857</td>\n",
              "      <td>30.340000</td>\n",
              "      <td>30.490000</td>\n",
              "      <td>30.572857</td>\n",
              "      <td>123432400.0</td>\n",
              "      <td>20.473503</td>\n",
              "    </tr>\n",
              "    <tr>\n",
              "      <th>2010-01-05</th>\n",
              "      <td>30.798571</td>\n",
              "      <td>30.464285</td>\n",
              "      <td>30.657143</td>\n",
              "      <td>30.625713</td>\n",
              "      <td>150476200.0</td>\n",
              "      <td>20.508902</td>\n",
              "    </tr>\n",
              "    <tr>\n",
              "      <th>2010-01-06</th>\n",
              "      <td>30.747143</td>\n",
              "      <td>30.107143</td>\n",
              "      <td>30.625713</td>\n",
              "      <td>30.138571</td>\n",
              "      <td>138040000.0</td>\n",
              "      <td>20.182680</td>\n",
              "    </tr>\n",
              "    <tr>\n",
              "      <th>2010-01-07</th>\n",
              "      <td>30.285715</td>\n",
              "      <td>29.864286</td>\n",
              "      <td>30.250000</td>\n",
              "      <td>30.082857</td>\n",
              "      <td>119282800.0</td>\n",
              "      <td>20.145369</td>\n",
              "    </tr>\n",
              "    <tr>\n",
              "      <th>...</th>\n",
              "      <td>...</td>\n",
              "      <td>...</td>\n",
              "      <td>...</td>\n",
              "      <td>...</td>\n",
              "      <td>...</td>\n",
              "      <td>...</td>\n",
              "    </tr>\n",
              "    <tr>\n",
              "      <th>2018-12-24</th>\n",
              "      <td>151.550003</td>\n",
              "      <td>146.589996</td>\n",
              "      <td>148.149994</td>\n",
              "      <td>146.830002</td>\n",
              "      <td>37169200.0</td>\n",
              "      <td>146.830002</td>\n",
              "    </tr>\n",
              "    <tr>\n",
              "      <th>2018-12-26</th>\n",
              "      <td>157.229996</td>\n",
              "      <td>146.720001</td>\n",
              "      <td>148.300003</td>\n",
              "      <td>157.169998</td>\n",
              "      <td>58582500.0</td>\n",
              "      <td>157.169998</td>\n",
              "    </tr>\n",
              "    <tr>\n",
              "      <th>2018-12-27</th>\n",
              "      <td>156.770004</td>\n",
              "      <td>150.070007</td>\n",
              "      <td>155.839996</td>\n",
              "      <td>156.149994</td>\n",
              "      <td>53117100.0</td>\n",
              "      <td>156.149994</td>\n",
              "    </tr>\n",
              "    <tr>\n",
              "      <th>2018-12-28</th>\n",
              "      <td>158.520004</td>\n",
              "      <td>154.550003</td>\n",
              "      <td>157.500000</td>\n",
              "      <td>156.229996</td>\n",
              "      <td>42291400.0</td>\n",
              "      <td>156.229996</td>\n",
              "    </tr>\n",
              "    <tr>\n",
              "      <th>2018-12-31</th>\n",
              "      <td>159.360001</td>\n",
              "      <td>156.479996</td>\n",
              "      <td>158.529999</td>\n",
              "      <td>157.740005</td>\n",
              "      <td>35003500.0</td>\n",
              "      <td>157.740005</td>\n",
              "    </tr>\n",
              "  </tbody>\n",
              "</table>\n",
              "<p>2265 rows × 6 columns</p>\n",
              "</div>"
            ],
            "text/plain": [
              "                  High         Low  ...       Volume   Adj Close\n",
              "Date                                ...                         \n",
              "2009-12-31   30.478571   30.080000  ...   88102700.0   20.159719\n",
              "2010-01-04   30.642857   30.340000  ...  123432400.0   20.473503\n",
              "2010-01-05   30.798571   30.464285  ...  150476200.0   20.508902\n",
              "2010-01-06   30.747143   30.107143  ...  138040000.0   20.182680\n",
              "2010-01-07   30.285715   29.864286  ...  119282800.0   20.145369\n",
              "...                ...         ...  ...          ...         ...\n",
              "2018-12-24  151.550003  146.589996  ...   37169200.0  146.830002\n",
              "2018-12-26  157.229996  146.720001  ...   58582500.0  157.169998\n",
              "2018-12-27  156.770004  150.070007  ...   53117100.0  156.149994\n",
              "2018-12-28  158.520004  154.550003  ...   42291400.0  156.229996\n",
              "2018-12-31  159.360001  156.479996  ...   35003500.0  157.740005\n",
              "\n",
              "[2265 rows x 6 columns]"
            ]
          },
          "metadata": {
            "tags": []
          },
          "execution_count": 143
        }
      ]
    },
    {
      "cell_type": "code",
      "metadata": {
        "colab": {
          "base_uri": "https://localhost:8080/"
        },
        "id": "0Iip2VMfqirj",
        "outputId": "b6685556-242d-4b09-e63b-d03cb5c79001"
      },
      "source": [
        "df.index.month"
      ],
      "execution_count": null,
      "outputs": [
        {
          "output_type": "execute_result",
          "data": {
            "text/plain": [
              "Int64Index([12,  1,  1,  1,  1,  1,  1,  1,  1,  1,\n",
              "            ...\n",
              "            12, 12, 12, 12, 12, 12, 12, 12, 12, 12],\n",
              "           dtype='int64', name='Date', length=2265)"
            ]
          },
          "metadata": {
            "tags": []
          },
          "execution_count": 144
        }
      ]
    },
    {
      "cell_type": "code",
      "metadata": {
        "id": "18P-kOCJqoSw"
      },
      "source": [
        "df['month'] = df.index.month"
      ],
      "execution_count": null,
      "outputs": []
    },
    {
      "cell_type": "code",
      "metadata": {
        "colab": {
          "base_uri": "https://localhost:8080/",
          "height": 235
        },
        "id": "_jkCCjtkquWr",
        "outputId": "30a4652b-876a-4ab4-b32e-f593d6a7e33c"
      },
      "source": [
        "df.head()"
      ],
      "execution_count": null,
      "outputs": [
        {
          "output_type": "execute_result",
          "data": {
            "text/html": [
              "<div>\n",
              "<style scoped>\n",
              "    .dataframe tbody tr th:only-of-type {\n",
              "        vertical-align: middle;\n",
              "    }\n",
              "\n",
              "    .dataframe tbody tr th {\n",
              "        vertical-align: top;\n",
              "    }\n",
              "\n",
              "    .dataframe thead th {\n",
              "        text-align: right;\n",
              "    }\n",
              "</style>\n",
              "<table border=\"1\" class=\"dataframe\">\n",
              "  <thead>\n",
              "    <tr style=\"text-align: right;\">\n",
              "      <th></th>\n",
              "      <th>High</th>\n",
              "      <th>Low</th>\n",
              "      <th>Open</th>\n",
              "      <th>Close</th>\n",
              "      <th>Volume</th>\n",
              "      <th>Adj Close</th>\n",
              "      <th>month</th>\n",
              "    </tr>\n",
              "    <tr>\n",
              "      <th>Date</th>\n",
              "      <th></th>\n",
              "      <th></th>\n",
              "      <th></th>\n",
              "      <th></th>\n",
              "      <th></th>\n",
              "      <th></th>\n",
              "      <th></th>\n",
              "    </tr>\n",
              "  </thead>\n",
              "  <tbody>\n",
              "    <tr>\n",
              "      <th>2009-12-31</th>\n",
              "      <td>30.478571</td>\n",
              "      <td>30.080000</td>\n",
              "      <td>30.447144</td>\n",
              "      <td>30.104286</td>\n",
              "      <td>88102700.0</td>\n",
              "      <td>20.159719</td>\n",
              "      <td>12</td>\n",
              "    </tr>\n",
              "    <tr>\n",
              "      <th>2010-01-04</th>\n",
              "      <td>30.642857</td>\n",
              "      <td>30.340000</td>\n",
              "      <td>30.490000</td>\n",
              "      <td>30.572857</td>\n",
              "      <td>123432400.0</td>\n",
              "      <td>20.473503</td>\n",
              "      <td>1</td>\n",
              "    </tr>\n",
              "    <tr>\n",
              "      <th>2010-01-05</th>\n",
              "      <td>30.798571</td>\n",
              "      <td>30.464285</td>\n",
              "      <td>30.657143</td>\n",
              "      <td>30.625713</td>\n",
              "      <td>150476200.0</td>\n",
              "      <td>20.508902</td>\n",
              "      <td>1</td>\n",
              "    </tr>\n",
              "    <tr>\n",
              "      <th>2010-01-06</th>\n",
              "      <td>30.747143</td>\n",
              "      <td>30.107143</td>\n",
              "      <td>30.625713</td>\n",
              "      <td>30.138571</td>\n",
              "      <td>138040000.0</td>\n",
              "      <td>20.182680</td>\n",
              "      <td>1</td>\n",
              "    </tr>\n",
              "    <tr>\n",
              "      <th>2010-01-07</th>\n",
              "      <td>30.285715</td>\n",
              "      <td>29.864286</td>\n",
              "      <td>30.250000</td>\n",
              "      <td>30.082857</td>\n",
              "      <td>119282800.0</td>\n",
              "      <td>20.145369</td>\n",
              "      <td>1</td>\n",
              "    </tr>\n",
              "  </tbody>\n",
              "</table>\n",
              "</div>"
            ],
            "text/plain": [
              "                 High        Low       Open  ...       Volume  Adj Close  month\n",
              "Date                                         ...                               \n",
              "2009-12-31  30.478571  30.080000  30.447144  ...   88102700.0  20.159719     12\n",
              "2010-01-04  30.642857  30.340000  30.490000  ...  123432400.0  20.473503      1\n",
              "2010-01-05  30.798571  30.464285  30.657143  ...  150476200.0  20.508902      1\n",
              "2010-01-06  30.747143  30.107143  30.625713  ...  138040000.0  20.182680      1\n",
              "2010-01-07  30.285715  29.864286  30.250000  ...  119282800.0  20.145369      1\n",
              "\n",
              "[5 rows x 7 columns]"
            ]
          },
          "metadata": {
            "tags": []
          },
          "execution_count": 146
        }
      ]
    },
    {
      "cell_type": "code",
      "metadata": {
        "colab": {
          "base_uri": "https://localhost:8080/",
          "height": 452
        },
        "id": "0pAWTdvEqvTK",
        "outputId": "361b54e2-f910-47b0-c0be-6d41f4d48cdc"
      },
      "source": [
        "df.groupby('month').agg(sum) # 월별 합계 계산"
      ],
      "execution_count": null,
      "outputs": [
        {
          "output_type": "execute_result",
          "data": {
            "text/html": [
              "<div>\n",
              "<style scoped>\n",
              "    .dataframe tbody tr th:only-of-type {\n",
              "        vertical-align: middle;\n",
              "    }\n",
              "\n",
              "    .dataframe tbody tr th {\n",
              "        vertical-align: top;\n",
              "    }\n",
              "\n",
              "    .dataframe thead th {\n",
              "        text-align: right;\n",
              "    }\n",
              "</style>\n",
              "<table border=\"1\" class=\"dataframe\">\n",
              "  <thead>\n",
              "    <tr style=\"text-align: right;\">\n",
              "      <th></th>\n",
              "      <th>High</th>\n",
              "      <th>Low</th>\n",
              "      <th>Open</th>\n",
              "      <th>Close</th>\n",
              "      <th>Volume</th>\n",
              "      <th>Adj Close</th>\n",
              "    </tr>\n",
              "    <tr>\n",
              "      <th>month</th>\n",
              "      <th></th>\n",
              "      <th></th>\n",
              "      <th></th>\n",
              "      <th></th>\n",
              "      <th></th>\n",
              "      <th></th>\n",
              "    </tr>\n",
              "  </thead>\n",
              "  <tbody>\n",
              "    <tr>\n",
              "      <th>1</th>\n",
              "      <td>16141.351418</td>\n",
              "      <td>15840.451458</td>\n",
              "      <td>16007.617104</td>\n",
              "      <td>15989.401403</td>\n",
              "      <td>1.748822e+10</td>\n",
              "      <td>14038.491524</td>\n",
              "    </tr>\n",
              "    <tr>\n",
              "      <th>2</th>\n",
              "      <td>15739.942860</td>\n",
              "      <td>15445.045748</td>\n",
              "      <td>15572.844261</td>\n",
              "      <td>15607.478556</td>\n",
              "      <td>1.511651e+10</td>\n",
              "      <td>13799.143261</td>\n",
              "    </tr>\n",
              "    <tr>\n",
              "      <th>3</th>\n",
              "      <td>18676.318544</td>\n",
              "      <td>18358.607164</td>\n",
              "      <td>18522.812897</td>\n",
              "      <td>18516.759998</td>\n",
              "      <td>1.646522e+10</td>\n",
              "      <td>16387.278601</td>\n",
              "    </tr>\n",
              "    <tr>\n",
              "      <th>4</th>\n",
              "      <td>17763.422855</td>\n",
              "      <td>17444.350006</td>\n",
              "      <td>17612.804337</td>\n",
              "      <td>17595.992851</td>\n",
              "      <td>1.656252e+10</td>\n",
              "      <td>15549.686649</td>\n",
              "    </tr>\n",
              "    <tr>\n",
              "      <th>5</th>\n",
              "      <td>18874.642849</td>\n",
              "      <td>18552.902849</td>\n",
              "      <td>18711.531479</td>\n",
              "      <td>18731.747120</td>\n",
              "      <td>1.595049e+10</td>\n",
              "      <td>16741.255772</td>\n",
              "    </tr>\n",
              "    <tr>\n",
              "      <th>6</th>\n",
              "      <td>19040.630035</td>\n",
              "      <td>18743.354290</td>\n",
              "      <td>18909.838608</td>\n",
              "      <td>18881.168510</td>\n",
              "      <td>1.427367e+10</td>\n",
              "      <td>16927.685444</td>\n",
              "    </tr>\n",
              "    <tr>\n",
              "      <th>7</th>\n",
              "      <td>18908.574245</td>\n",
              "      <td>18616.531422</td>\n",
              "      <td>18760.998562</td>\n",
              "      <td>18775.181419</td>\n",
              "      <td>1.403693e+10</td>\n",
              "      <td>16779.291849</td>\n",
              "    </tr>\n",
              "    <tr>\n",
              "      <th>8</th>\n",
              "      <td>21322.417149</td>\n",
              "      <td>20943.891430</td>\n",
              "      <td>21113.692909</td>\n",
              "      <td>21152.527245</td>\n",
              "      <td>1.505109e+10</td>\n",
              "      <td>19060.226547</td>\n",
              "    </tr>\n",
              "    <tr>\n",
              "      <th>9</th>\n",
              "      <td>19596.267178</td>\n",
              "      <td>19222.517181</td>\n",
              "      <td>19423.325752</td>\n",
              "      <td>19400.800022</td>\n",
              "      <td>1.547466e+10</td>\n",
              "      <td>17478.810833</td>\n",
              "    </tr>\n",
              "    <tr>\n",
              "      <th>10</th>\n",
              "      <td>21670.588585</td>\n",
              "      <td>21245.169964</td>\n",
              "      <td>21466.111412</td>\n",
              "      <td>21471.372849</td>\n",
              "      <td>1.579270e+10</td>\n",
              "      <td>19412.855421</td>\n",
              "    </tr>\n",
              "    <tr>\n",
              "      <th>11</th>\n",
              "      <td>19932.064278</td>\n",
              "      <td>19547.734276</td>\n",
              "      <td>19761.048534</td>\n",
              "      <td>19746.541416</td>\n",
              "      <td>1.301104e+10</td>\n",
              "      <td>17929.619272</td>\n",
              "    </tr>\n",
              "    <tr>\n",
              "      <th>12</th>\n",
              "      <td>19514.165709</td>\n",
              "      <td>19137.724298</td>\n",
              "      <td>19344.287140</td>\n",
              "      <td>19309.390026</td>\n",
              "      <td>1.223923e+10</td>\n",
              "      <td>17473.007708</td>\n",
              "    </tr>\n",
              "  </tbody>\n",
              "</table>\n",
              "</div>"
            ],
            "text/plain": [
              "               High           Low  ...        Volume     Adj Close\n",
              "month                              ...                            \n",
              "1      16141.351418  15840.451458  ...  1.748822e+10  14038.491524\n",
              "2      15739.942860  15445.045748  ...  1.511651e+10  13799.143261\n",
              "3      18676.318544  18358.607164  ...  1.646522e+10  16387.278601\n",
              "4      17763.422855  17444.350006  ...  1.656252e+10  15549.686649\n",
              "5      18874.642849  18552.902849  ...  1.595049e+10  16741.255772\n",
              "6      19040.630035  18743.354290  ...  1.427367e+10  16927.685444\n",
              "7      18908.574245  18616.531422  ...  1.403693e+10  16779.291849\n",
              "8      21322.417149  20943.891430  ...  1.505109e+10  19060.226547\n",
              "9      19596.267178  19222.517181  ...  1.547466e+10  17478.810833\n",
              "10     21670.588585  21245.169964  ...  1.579270e+10  19412.855421\n",
              "11     19932.064278  19547.734276  ...  1.301104e+10  17929.619272\n",
              "12     19514.165709  19137.724298  ...  1.223923e+10  17473.007708\n",
              "\n",
              "[12 rows x 6 columns]"
            ]
          },
          "metadata": {
            "tags": []
          },
          "execution_count": 147
        }
      ]
    },
    {
      "cell_type": "code",
      "metadata": {
        "colab": {
          "base_uri": "https://localhost:8080/",
          "height": 390
        },
        "id": "COhvcm4fq316",
        "outputId": "97a2bbfb-fa70-482f-9791-d49badf45d2c"
      },
      "source": [
        "df.groupby(df.index.year).sum() # 연도별 합계"
      ],
      "execution_count": null,
      "outputs": [
        {
          "output_type": "execute_result",
          "data": {
            "text/html": [
              "<div>\n",
              "<style scoped>\n",
              "    .dataframe tbody tr th:only-of-type {\n",
              "        vertical-align: middle;\n",
              "    }\n",
              "\n",
              "    .dataframe tbody tr th {\n",
              "        vertical-align: top;\n",
              "    }\n",
              "\n",
              "    .dataframe thead th {\n",
              "        text-align: right;\n",
              "    }\n",
              "</style>\n",
              "<table border=\"1\" class=\"dataframe\">\n",
              "  <thead>\n",
              "    <tr style=\"text-align: right;\">\n",
              "      <th></th>\n",
              "      <th>High</th>\n",
              "      <th>Low</th>\n",
              "      <th>Open</th>\n",
              "      <th>Close</th>\n",
              "      <th>Volume</th>\n",
              "      <th>Adj Close</th>\n",
              "      <th>month</th>\n",
              "    </tr>\n",
              "    <tr>\n",
              "      <th>Date</th>\n",
              "      <th></th>\n",
              "      <th></th>\n",
              "      <th></th>\n",
              "      <th></th>\n",
              "      <th></th>\n",
              "      <th></th>\n",
              "      <th></th>\n",
              "    </tr>\n",
              "  </thead>\n",
              "  <tbody>\n",
              "    <tr>\n",
              "      <th>2009</th>\n",
              "      <td>30.478571</td>\n",
              "      <td>30.080000</td>\n",
              "      <td>30.447144</td>\n",
              "      <td>30.104286</td>\n",
              "      <td>8.810270e+07</td>\n",
              "      <td>20.159719</td>\n",
              "      <td>12</td>\n",
              "    </tr>\n",
              "    <tr>\n",
              "      <th>2010</th>\n",
              "      <td>9445.277117</td>\n",
              "      <td>9246.514246</td>\n",
              "      <td>9358.474289</td>\n",
              "      <td>9354.328560</td>\n",
              "      <td>3.775623e+10</td>\n",
              "      <td>6264.245874</td>\n",
              "      <td>1659</td>\n",
              "    </tr>\n",
              "    <tr>\n",
              "      <th>2011</th>\n",
              "      <td>13227.248539</td>\n",
              "      <td>12970.717155</td>\n",
              "      <td>13106.211399</td>\n",
              "      <td>13104.155712</td>\n",
              "      <td>3.101483e+10</td>\n",
              "      <td>8775.365667</td>\n",
              "      <td>1650</td>\n",
              "    </tr>\n",
              "    <tr>\n",
              "      <th>2012</th>\n",
              "      <td>20779.478600</td>\n",
              "      <td>20354.327164</td>\n",
              "      <td>20594.740028</td>\n",
              "      <td>20573.204269</td>\n",
              "      <td>3.299105e+10</td>\n",
              "      <td>14019.096821</td>\n",
              "      <td>1625</td>\n",
              "    </tr>\n",
              "    <tr>\n",
              "      <th>2013</th>\n",
              "      <td>17195.001381</td>\n",
              "      <td>16856.895695</td>\n",
              "      <td>17032.612881</td>\n",
              "      <td>17014.855690</td>\n",
              "      <td>2.560539e+10</td>\n",
              "      <td>13377.068882</td>\n",
              "      <td>1649</td>\n",
              "    </tr>\n",
              "    <tr>\n",
              "      <th>2014</th>\n",
              "      <td>23439.191429</td>\n",
              "      <td>23051.835686</td>\n",
              "      <td>23239.397186</td>\n",
              "      <td>23250.692886</td>\n",
              "      <td>1.591449e+10</td>\n",
              "      <td>21242.415085</td>\n",
              "      <td>1651</td>\n",
              "    </tr>\n",
              "    <tr>\n",
              "      <th>2015</th>\n",
              "      <td>30553.620010</td>\n",
              "      <td>29953.500031</td>\n",
              "      <td>30284.289993</td>\n",
              "      <td>30250.079948</td>\n",
              "      <td>1.306315e+10</td>\n",
              "      <td>28458.719048</td>\n",
              "      <td>1655</td>\n",
              "    </tr>\n",
              "    <tr>\n",
              "      <th>2016</th>\n",
              "      <td>26567.650009</td>\n",
              "      <td>26129.949989</td>\n",
              "      <td>26335.959984</td>\n",
              "      <td>26360.209991</td>\n",
              "      <td>9.680622e+09</td>\n",
              "      <td>25313.373260</td>\n",
              "      <td>1652</td>\n",
              "    </tr>\n",
              "    <tr>\n",
              "      <th>2017</th>\n",
              "      <td>38002.920044</td>\n",
              "      <td>37521.400078</td>\n",
              "      <td>37761.670013</td>\n",
              "      <td>37788.319946</td>\n",
              "      <td>6.810426e+09</td>\n",
              "      <td>36972.054916</td>\n",
              "      <td>1640</td>\n",
              "    </tr>\n",
              "    <tr>\n",
              "      <th>2018</th>\n",
              "      <td>47939.520004</td>\n",
              "      <td>46983.060043</td>\n",
              "      <td>47463.110077</td>\n",
              "      <td>47452.410126</td>\n",
              "      <td>8.537986e+09</td>\n",
              "      <td>47134.853607</td>\n",
              "      <td>1633</td>\n",
              "    </tr>\n",
              "  </tbody>\n",
              "</table>\n",
              "</div>"
            ],
            "text/plain": [
              "              High           Low  ...     Adj Close  month\n",
              "Date                              ...                     \n",
              "2009     30.478571     30.080000  ...     20.159719     12\n",
              "2010   9445.277117   9246.514246  ...   6264.245874   1659\n",
              "2011  13227.248539  12970.717155  ...   8775.365667   1650\n",
              "2012  20779.478600  20354.327164  ...  14019.096821   1625\n",
              "2013  17195.001381  16856.895695  ...  13377.068882   1649\n",
              "2014  23439.191429  23051.835686  ...  21242.415085   1651\n",
              "2015  30553.620010  29953.500031  ...  28458.719048   1655\n",
              "2016  26567.650009  26129.949989  ...  25313.373260   1652\n",
              "2017  38002.920044  37521.400078  ...  36972.054916   1640\n",
              "2018  47939.520004  46983.060043  ...  47134.853607   1633\n",
              "\n",
              "[10 rows x 7 columns]"
            ]
          },
          "metadata": {
            "tags": []
          },
          "execution_count": 148
        }
      ]
    },
    {
      "cell_type": "code",
      "metadata": {
        "colab": {
          "base_uri": "https://localhost:8080/",
          "height": 450
        },
        "id": "qNpemOhlrPg-",
        "outputId": "f3b8c7eb-12f9-4b91-d1b7-7ca6a40f7129"
      },
      "source": [
        "df.groupby([df.index.year, df.index.month]).agg(sum)"
      ],
      "execution_count": null,
      "outputs": [
        {
          "output_type": "execute_result",
          "data": {
            "text/html": [
              "<div>\n",
              "<style scoped>\n",
              "    .dataframe tbody tr th:only-of-type {\n",
              "        vertical-align: middle;\n",
              "    }\n",
              "\n",
              "    .dataframe tbody tr th {\n",
              "        vertical-align: top;\n",
              "    }\n",
              "\n",
              "    .dataframe thead th {\n",
              "        text-align: right;\n",
              "    }\n",
              "</style>\n",
              "<table border=\"1\" class=\"dataframe\">\n",
              "  <thead>\n",
              "    <tr style=\"text-align: right;\">\n",
              "      <th></th>\n",
              "      <th></th>\n",
              "      <th>High</th>\n",
              "      <th>Low</th>\n",
              "      <th>Open</th>\n",
              "      <th>Close</th>\n",
              "      <th>Volume</th>\n",
              "      <th>Adj Close</th>\n",
              "      <th>month</th>\n",
              "    </tr>\n",
              "    <tr>\n",
              "      <th>Date</th>\n",
              "      <th>Date</th>\n",
              "      <th></th>\n",
              "      <th></th>\n",
              "      <th></th>\n",
              "      <th></th>\n",
              "      <th></th>\n",
              "      <th></th>\n",
              "      <th></th>\n",
              "    </tr>\n",
              "  </thead>\n",
              "  <tbody>\n",
              "    <tr>\n",
              "      <th>2009</th>\n",
              "      <th>12</th>\n",
              "      <td>30.478571</td>\n",
              "      <td>30.080000</td>\n",
              "      <td>30.447144</td>\n",
              "      <td>30.104286</td>\n",
              "      <td>8.810270e+07</td>\n",
              "      <td>20.159719</td>\n",
              "      <td>12</td>\n",
              "    </tr>\n",
              "    <tr>\n",
              "      <th rowspan=\"4\" valign=\"top\">2010</th>\n",
              "      <th>1</th>\n",
              "      <td>573.331425</td>\n",
              "      <td>557.244289</td>\n",
              "      <td>568.397141</td>\n",
              "      <td>563.798571</td>\n",
              "      <td>3.792249e+09</td>\n",
              "      <td>377.554930</td>\n",
              "      <td>19</td>\n",
              "    </tr>\n",
              "    <tr>\n",
              "      <th>2</th>\n",
              "      <td>544.092857</td>\n",
              "      <td>532.875715</td>\n",
              "      <td>537.678570</td>\n",
              "      <td>539.588568</td>\n",
              "      <td>2.694020e+09</td>\n",
              "      <td>361.342400</td>\n",
              "      <td>38</td>\n",
              "    </tr>\n",
              "    <tr>\n",
              "      <th>3</th>\n",
              "      <td>738.235716</td>\n",
              "      <td>727.080000</td>\n",
              "      <td>732.047146</td>\n",
              "      <td>734.064285</td>\n",
              "      <td>3.038543e+09</td>\n",
              "      <td>491.575537</td>\n",
              "      <td>69</td>\n",
              "    </tr>\n",
              "    <tr>\n",
              "      <th>4</th>\n",
              "      <td>759.410004</td>\n",
              "      <td>744.359997</td>\n",
              "      <td>753.004292</td>\n",
              "      <td>753.445721</td>\n",
              "      <td>3.091782e+09</td>\n",
              "      <td>504.554579</td>\n",
              "      <td>84</td>\n",
              "    </tr>\n",
              "    <tr>\n",
              "      <th>...</th>\n",
              "      <th>...</th>\n",
              "      <td>...</td>\n",
              "      <td>...</td>\n",
              "      <td>...</td>\n",
              "      <td>...</td>\n",
              "      <td>...</td>\n",
              "      <td>...</td>\n",
              "      <td>...</td>\n",
              "    </tr>\n",
              "    <tr>\n",
              "      <th rowspan=\"5\" valign=\"top\">2018</th>\n",
              "      <th>8</th>\n",
              "      <td>4934.909988</td>\n",
              "      <td>4860.029999</td>\n",
              "      <td>4883.340012</td>\n",
              "      <td>4906.960037</td>\n",
              "      <td>7.002737e+08</td>\n",
              "      <td>4884.851288</td>\n",
              "      <td>184</td>\n",
              "    </tr>\n",
              "    <tr>\n",
              "      <th>9</th>\n",
              "      <td>4266.080002</td>\n",
              "      <td>4181.480011</td>\n",
              "      <td>4224.290009</td>\n",
              "      <td>4219.400024</td>\n",
              "      <td>6.789720e+08</td>\n",
              "      <td>4204.729004</td>\n",
              "      <td>171</td>\n",
              "    </tr>\n",
              "    <tr>\n",
              "      <th>10</th>\n",
              "      <td>5150.640030</td>\n",
              "      <td>5011.109985</td>\n",
              "      <td>5087.600021</td>\n",
              "      <td>5079.449997</td>\n",
              "      <td>7.897485e+08</td>\n",
              "      <td>5061.788559</td>\n",
              "      <td>230</td>\n",
              "    </tr>\n",
              "    <tr>\n",
              "      <th>11</th>\n",
              "      <td>4072.939987</td>\n",
              "      <td>3962.709976</td>\n",
              "      <td>4028.209991</td>\n",
              "      <td>4015.949997</td>\n",
              "      <td>9.613264e+08</td>\n",
              "      <td>4012.316437</td>\n",
              "      <td>231</td>\n",
              "    </tr>\n",
              "    <tr>\n",
              "      <th>12</th>\n",
              "      <td>3179.080017</td>\n",
              "      <td>3075.930023</td>\n",
              "      <td>3139.619995</td>\n",
              "      <td>3121.060028</td>\n",
              "      <td>8.989225e+08</td>\n",
              "      <td>3121.060028</td>\n",
              "      <td>228</td>\n",
              "    </tr>\n",
              "  </tbody>\n",
              "</table>\n",
              "<p>109 rows × 7 columns</p>\n",
              "</div>"
            ],
            "text/plain": [
              "                  High          Low  ...    Adj Close  month\n",
              "Date Date                            ...                    \n",
              "2009 12      30.478571    30.080000  ...    20.159719     12\n",
              "2010 1      573.331425   557.244289  ...   377.554930     19\n",
              "     2      544.092857   532.875715  ...   361.342400     38\n",
              "     3      738.235716   727.080000  ...   491.575537     69\n",
              "     4      759.410004   744.359997  ...   504.554579     84\n",
              "...                ...          ...  ...          ...    ...\n",
              "2018 8     4934.909988  4860.029999  ...  4884.851288    184\n",
              "     9     4266.080002  4181.480011  ...  4204.729004    171\n",
              "     10    5150.640030  5011.109985  ...  5061.788559    230\n",
              "     11    4072.939987  3962.709976  ...  4012.316437    231\n",
              "     12    3179.080017  3075.930023  ...  3121.060028    228\n",
              "\n",
              "[109 rows x 7 columns]"
            ]
          },
          "metadata": {
            "tags": []
          },
          "execution_count": 149
        }
      ]
    },
    {
      "cell_type": "code",
      "metadata": {
        "colab": {
          "base_uri": "https://localhost:8080/",
          "height": 390
        },
        "id": "EHyiz-p6rcB3",
        "outputId": "654537a8-fa72-4d55-965f-483a899dde31"
      },
      "source": [
        "df.resample(rule='A').sum()"
      ],
      "execution_count": null,
      "outputs": [
        {
          "output_type": "execute_result",
          "data": {
            "text/html": [
              "<div>\n",
              "<style scoped>\n",
              "    .dataframe tbody tr th:only-of-type {\n",
              "        vertical-align: middle;\n",
              "    }\n",
              "\n",
              "    .dataframe tbody tr th {\n",
              "        vertical-align: top;\n",
              "    }\n",
              "\n",
              "    .dataframe thead th {\n",
              "        text-align: right;\n",
              "    }\n",
              "</style>\n",
              "<table border=\"1\" class=\"dataframe\">\n",
              "  <thead>\n",
              "    <tr style=\"text-align: right;\">\n",
              "      <th></th>\n",
              "      <th>High</th>\n",
              "      <th>Low</th>\n",
              "      <th>Open</th>\n",
              "      <th>Close</th>\n",
              "      <th>Volume</th>\n",
              "      <th>Adj Close</th>\n",
              "      <th>month</th>\n",
              "    </tr>\n",
              "    <tr>\n",
              "      <th>Date</th>\n",
              "      <th></th>\n",
              "      <th></th>\n",
              "      <th></th>\n",
              "      <th></th>\n",
              "      <th></th>\n",
              "      <th></th>\n",
              "      <th></th>\n",
              "    </tr>\n",
              "  </thead>\n",
              "  <tbody>\n",
              "    <tr>\n",
              "      <th>2009-12-31</th>\n",
              "      <td>30.478571</td>\n",
              "      <td>30.080000</td>\n",
              "      <td>30.447144</td>\n",
              "      <td>30.104286</td>\n",
              "      <td>8.810270e+07</td>\n",
              "      <td>20.159719</td>\n",
              "      <td>12</td>\n",
              "    </tr>\n",
              "    <tr>\n",
              "      <th>2010-12-31</th>\n",
              "      <td>9445.277117</td>\n",
              "      <td>9246.514246</td>\n",
              "      <td>9358.474289</td>\n",
              "      <td>9354.328560</td>\n",
              "      <td>3.775623e+10</td>\n",
              "      <td>6264.245874</td>\n",
              "      <td>1659</td>\n",
              "    </tr>\n",
              "    <tr>\n",
              "      <th>2011-12-31</th>\n",
              "      <td>13227.248539</td>\n",
              "      <td>12970.717155</td>\n",
              "      <td>13106.211399</td>\n",
              "      <td>13104.155712</td>\n",
              "      <td>3.101483e+10</td>\n",
              "      <td>8775.365667</td>\n",
              "      <td>1650</td>\n",
              "    </tr>\n",
              "    <tr>\n",
              "      <th>2012-12-31</th>\n",
              "      <td>20779.478600</td>\n",
              "      <td>20354.327164</td>\n",
              "      <td>20594.740028</td>\n",
              "      <td>20573.204269</td>\n",
              "      <td>3.299105e+10</td>\n",
              "      <td>14019.096821</td>\n",
              "      <td>1625</td>\n",
              "    </tr>\n",
              "    <tr>\n",
              "      <th>2013-12-31</th>\n",
              "      <td>17195.001381</td>\n",
              "      <td>16856.895695</td>\n",
              "      <td>17032.612881</td>\n",
              "      <td>17014.855690</td>\n",
              "      <td>2.560539e+10</td>\n",
              "      <td>13377.068882</td>\n",
              "      <td>1649</td>\n",
              "    </tr>\n",
              "    <tr>\n",
              "      <th>2014-12-31</th>\n",
              "      <td>23439.191429</td>\n",
              "      <td>23051.835686</td>\n",
              "      <td>23239.397186</td>\n",
              "      <td>23250.692886</td>\n",
              "      <td>1.591449e+10</td>\n",
              "      <td>21242.415085</td>\n",
              "      <td>1651</td>\n",
              "    </tr>\n",
              "    <tr>\n",
              "      <th>2015-12-31</th>\n",
              "      <td>30553.620010</td>\n",
              "      <td>29953.500031</td>\n",
              "      <td>30284.289993</td>\n",
              "      <td>30250.079948</td>\n",
              "      <td>1.306315e+10</td>\n",
              "      <td>28458.719048</td>\n",
              "      <td>1655</td>\n",
              "    </tr>\n",
              "    <tr>\n",
              "      <th>2016-12-31</th>\n",
              "      <td>26567.650009</td>\n",
              "      <td>26129.949989</td>\n",
              "      <td>26335.959984</td>\n",
              "      <td>26360.209991</td>\n",
              "      <td>9.680622e+09</td>\n",
              "      <td>25313.373260</td>\n",
              "      <td>1652</td>\n",
              "    </tr>\n",
              "    <tr>\n",
              "      <th>2017-12-31</th>\n",
              "      <td>38002.920044</td>\n",
              "      <td>37521.400078</td>\n",
              "      <td>37761.670013</td>\n",
              "      <td>37788.319946</td>\n",
              "      <td>6.810426e+09</td>\n",
              "      <td>36972.054916</td>\n",
              "      <td>1640</td>\n",
              "    </tr>\n",
              "    <tr>\n",
              "      <th>2018-12-31</th>\n",
              "      <td>47939.520004</td>\n",
              "      <td>46983.060043</td>\n",
              "      <td>47463.110077</td>\n",
              "      <td>47452.410126</td>\n",
              "      <td>8.537986e+09</td>\n",
              "      <td>47134.853607</td>\n",
              "      <td>1633</td>\n",
              "    </tr>\n",
              "  </tbody>\n",
              "</table>\n",
              "</div>"
            ],
            "text/plain": [
              "                    High           Low  ...     Adj Close  month\n",
              "Date                                    ...                     \n",
              "2009-12-31     30.478571     30.080000  ...     20.159719     12\n",
              "2010-12-31   9445.277117   9246.514246  ...   6264.245874   1659\n",
              "2011-12-31  13227.248539  12970.717155  ...   8775.365667   1650\n",
              "2012-12-31  20779.478600  20354.327164  ...  14019.096821   1625\n",
              "2013-12-31  17195.001381  16856.895695  ...  13377.068882   1649\n",
              "2014-12-31  23439.191429  23051.835686  ...  21242.415085   1651\n",
              "2015-12-31  30553.620010  29953.500031  ...  28458.719048   1655\n",
              "2016-12-31  26567.650009  26129.949989  ...  25313.373260   1652\n",
              "2017-12-31  38002.920044  37521.400078  ...  36972.054916   1640\n",
              "2018-12-31  47939.520004  46983.060043  ...  47134.853607   1633\n",
              "\n",
              "[10 rows x 7 columns]"
            ]
          },
          "metadata": {
            "tags": []
          },
          "execution_count": 150
        }
      ]
    },
    {
      "cell_type": "code",
      "metadata": {
        "colab": {
          "base_uri": "https://localhost:8080/",
          "height": 111
        },
        "id": "aRo71TfisdG5",
        "outputId": "7cde1cc2-e17e-43fb-d63b-9fda6f20d680"
      },
      "source": [
        "df.resample(rule='A').mean()['2009']"
      ],
      "execution_count": null,
      "outputs": [
        {
          "output_type": "execute_result",
          "data": {
            "text/html": [
              "<div>\n",
              "<style scoped>\n",
              "    .dataframe tbody tr th:only-of-type {\n",
              "        vertical-align: middle;\n",
              "    }\n",
              "\n",
              "    .dataframe tbody tr th {\n",
              "        vertical-align: top;\n",
              "    }\n",
              "\n",
              "    .dataframe thead th {\n",
              "        text-align: right;\n",
              "    }\n",
              "</style>\n",
              "<table border=\"1\" class=\"dataframe\">\n",
              "  <thead>\n",
              "    <tr style=\"text-align: right;\">\n",
              "      <th></th>\n",
              "      <th>High</th>\n",
              "      <th>Low</th>\n",
              "      <th>Open</th>\n",
              "      <th>Close</th>\n",
              "      <th>Volume</th>\n",
              "      <th>Adj Close</th>\n",
              "      <th>month</th>\n",
              "    </tr>\n",
              "    <tr>\n",
              "      <th>Date</th>\n",
              "      <th></th>\n",
              "      <th></th>\n",
              "      <th></th>\n",
              "      <th></th>\n",
              "      <th></th>\n",
              "      <th></th>\n",
              "      <th></th>\n",
              "    </tr>\n",
              "  </thead>\n",
              "  <tbody>\n",
              "    <tr>\n",
              "      <th>2009-12-31</th>\n",
              "      <td>30.478571</td>\n",
              "      <td>30.08</td>\n",
              "      <td>30.447144</td>\n",
              "      <td>30.104286</td>\n",
              "      <td>88102700.0</td>\n",
              "      <td>20.159719</td>\n",
              "      <td>12.0</td>\n",
              "    </tr>\n",
              "  </tbody>\n",
              "</table>\n",
              "</div>"
            ],
            "text/plain": [
              "                 High    Low       Open  ...      Volume  Adj Close  month\n",
              "Date                                     ...                              \n",
              "2009-12-31  30.478571  30.08  30.447144  ...  88102700.0  20.159719   12.0\n",
              "\n",
              "[1 rows x 7 columns]"
            ]
          },
          "metadata": {
            "tags": []
          },
          "execution_count": 151
        }
      ]
    },
    {
      "cell_type": "code",
      "metadata": {
        "id": "wThBMH5ssxmh"
      },
      "source": [
        "def first_day(sample):\r\n",
        "  return sample[0]"
      ],
      "execution_count": null,
      "outputs": []
    },
    {
      "cell_type": "code",
      "metadata": {
        "colab": {
          "base_uri": "https://localhost:8080/",
          "height": 390
        },
        "id": "DqaqQ_7YsjS0",
        "outputId": "0e1499db-d30f-40bd-829c-3416561645fe"
      },
      "source": [
        "df.resample(rule='A').apply(first_day)"
      ],
      "execution_count": null,
      "outputs": [
        {
          "output_type": "execute_result",
          "data": {
            "text/html": [
              "<div>\n",
              "<style scoped>\n",
              "    .dataframe tbody tr th:only-of-type {\n",
              "        vertical-align: middle;\n",
              "    }\n",
              "\n",
              "    .dataframe tbody tr th {\n",
              "        vertical-align: top;\n",
              "    }\n",
              "\n",
              "    .dataframe thead th {\n",
              "        text-align: right;\n",
              "    }\n",
              "</style>\n",
              "<table border=\"1\" class=\"dataframe\">\n",
              "  <thead>\n",
              "    <tr style=\"text-align: right;\">\n",
              "      <th></th>\n",
              "      <th>High</th>\n",
              "      <th>Low</th>\n",
              "      <th>Open</th>\n",
              "      <th>Close</th>\n",
              "      <th>Volume</th>\n",
              "      <th>Adj Close</th>\n",
              "      <th>month</th>\n",
              "    </tr>\n",
              "    <tr>\n",
              "      <th>Date</th>\n",
              "      <th></th>\n",
              "      <th></th>\n",
              "      <th></th>\n",
              "      <th></th>\n",
              "      <th></th>\n",
              "      <th></th>\n",
              "      <th></th>\n",
              "    </tr>\n",
              "  </thead>\n",
              "  <tbody>\n",
              "    <tr>\n",
              "      <th>2009-12-31</th>\n",
              "      <td>30.478571</td>\n",
              "      <td>30.080000</td>\n",
              "      <td>30.447144</td>\n",
              "      <td>30.104286</td>\n",
              "      <td>88102700.0</td>\n",
              "      <td>20.159719</td>\n",
              "      <td>12</td>\n",
              "    </tr>\n",
              "    <tr>\n",
              "      <th>2010-12-31</th>\n",
              "      <td>30.642857</td>\n",
              "      <td>30.340000</td>\n",
              "      <td>30.490000</td>\n",
              "      <td>30.572857</td>\n",
              "      <td>123432400.0</td>\n",
              "      <td>20.473503</td>\n",
              "      <td>1</td>\n",
              "    </tr>\n",
              "    <tr>\n",
              "      <th>2011-12-31</th>\n",
              "      <td>47.180000</td>\n",
              "      <td>46.405716</td>\n",
              "      <td>46.520000</td>\n",
              "      <td>47.081429</td>\n",
              "      <td>111284600.0</td>\n",
              "      <td>31.528688</td>\n",
              "      <td>1</td>\n",
              "    </tr>\n",
              "    <tr>\n",
              "      <th>2012-12-31</th>\n",
              "      <td>58.928570</td>\n",
              "      <td>58.428570</td>\n",
              "      <td>58.485714</td>\n",
              "      <td>58.747143</td>\n",
              "      <td>75555200.0</td>\n",
              "      <td>39.340778</td>\n",
              "      <td>1</td>\n",
              "    </tr>\n",
              "    <tr>\n",
              "      <th>2013-12-31</th>\n",
              "      <td>79.285713</td>\n",
              "      <td>77.375717</td>\n",
              "      <td>79.117142</td>\n",
              "      <td>78.432854</td>\n",
              "      <td>140129500.0</td>\n",
              "      <td>55.923737</td>\n",
              "      <td>1</td>\n",
              "    </tr>\n",
              "    <tr>\n",
              "      <th>2014-12-31</th>\n",
              "      <td>79.575714</td>\n",
              "      <td>78.860001</td>\n",
              "      <td>79.382858</td>\n",
              "      <td>79.018570</td>\n",
              "      <td>58671200.0</td>\n",
              "      <td>67.251503</td>\n",
              "      <td>1</td>\n",
              "    </tr>\n",
              "    <tr>\n",
              "      <th>2015-12-31</th>\n",
              "      <td>111.440002</td>\n",
              "      <td>107.349998</td>\n",
              "      <td>111.389999</td>\n",
              "      <td>109.330002</td>\n",
              "      <td>53204600.0</td>\n",
              "      <td>101.963631</td>\n",
              "      <td>1</td>\n",
              "    </tr>\n",
              "    <tr>\n",
              "      <th>2016-12-31</th>\n",
              "      <td>105.370003</td>\n",
              "      <td>102.000000</td>\n",
              "      <td>102.610001</td>\n",
              "      <td>105.349998</td>\n",
              "      <td>67649400.0</td>\n",
              "      <td>99.925850</td>\n",
              "      <td>1</td>\n",
              "    </tr>\n",
              "    <tr>\n",
              "      <th>2017-12-31</th>\n",
              "      <td>116.330002</td>\n",
              "      <td>114.760002</td>\n",
              "      <td>115.800003</td>\n",
              "      <td>116.150002</td>\n",
              "      <td>28781900.0</td>\n",
              "      <td>112.620964</td>\n",
              "      <td>1</td>\n",
              "    </tr>\n",
              "    <tr>\n",
              "      <th>2018-12-31</th>\n",
              "      <td>172.300003</td>\n",
              "      <td>169.259995</td>\n",
              "      <td>170.160004</td>\n",
              "      <td>172.259995</td>\n",
              "      <td>25555900.0</td>\n",
              "      <td>169.712067</td>\n",
              "      <td>1</td>\n",
              "    </tr>\n",
              "  </tbody>\n",
              "</table>\n",
              "</div>"
            ],
            "text/plain": [
              "                  High         Low        Open  ...       Volume   Adj Close  month\n",
              "Date                                            ...                                \n",
              "2009-12-31   30.478571   30.080000   30.447144  ...   88102700.0   20.159719     12\n",
              "2010-12-31   30.642857   30.340000   30.490000  ...  123432400.0   20.473503      1\n",
              "2011-12-31   47.180000   46.405716   46.520000  ...  111284600.0   31.528688      1\n",
              "2012-12-31   58.928570   58.428570   58.485714  ...   75555200.0   39.340778      1\n",
              "2013-12-31   79.285713   77.375717   79.117142  ...  140129500.0   55.923737      1\n",
              "2014-12-31   79.575714   78.860001   79.382858  ...   58671200.0   67.251503      1\n",
              "2015-12-31  111.440002  107.349998  111.389999  ...   53204600.0  101.963631      1\n",
              "2016-12-31  105.370003  102.000000  102.610001  ...   67649400.0   99.925850      1\n",
              "2017-12-31  116.330002  114.760002  115.800003  ...   28781900.0  112.620964      1\n",
              "2018-12-31  172.300003  169.259995  170.160004  ...   25555900.0  169.712067      1\n",
              "\n",
              "[10 rows x 7 columns]"
            ]
          },
          "metadata": {
            "tags": []
          },
          "execution_count": 153
        }
      ]
    },
    {
      "cell_type": "code",
      "metadata": {
        "colab": {
          "base_uri": "https://localhost:8080/",
          "height": 392
        },
        "id": "GANt4Ho_s2EP",
        "outputId": "fe5ddb89-9667-43c2-9d86-c2c1d0fe8357"
      },
      "source": [
        "df['Close'].resample('A').mean().plot(kind='bar')"
      ],
      "execution_count": null,
      "outputs": [
        {
          "output_type": "execute_result",
          "data": {
            "text/plain": [
              "<matplotlib.axes._subplots.AxesSubplot at 0x7fb53ef6d510>"
            ]
          },
          "metadata": {
            "tags": []
          },
          "execution_count": 154
        },
        {
          "output_type": "display_data",
          "data": {
            "image/png": "[encoded data removed]",
            "text/plain": [
              "<Figure size 432x288 with 1 Axes>"
            ]
          },
          "metadata": {
            "tags": [],
            "needs_background": "light"
          }
        }
      ]
    },
    {
      "cell_type": "code",
      "metadata": {
        "colab": {
          "base_uri": "https://localhost:8080/",
          "height": 526
        },
        "id": "DCsEY9VrtG8O",
        "outputId": "c323540a-a985-4259-857a-cf3bdfe34dda"
      },
      "source": [
        "df['Open']['2015-8':].resample('M').max().plot(figsize=(15,8))"
      ],
      "execution_count": null,
      "outputs": [
        {
          "output_type": "execute_result",
          "data": {
            "text/plain": [
              "<matplotlib.axes._subplots.AxesSubplot at 0x7fb53d5a8090>"
            ]
          },
          "metadata": {
            "tags": []
          },
          "execution_count": 155
        },
        {
          "output_type": "display_data",
          "data": {
            "image/png": "[encoded data removed]",
            "text/plain": [
              "<Figure size 1080x576 with 1 Axes>"
            ]
          },
          "metadata": {
            "tags": [],
            "needs_background": "light"
          }
        }
      ]
    },
    {
      "cell_type": "code",
      "metadata": {
        "id": "nGyd7IlgtQ2V"
      },
      "source": [
        "daily_daterange = \\\r\n",
        "pd.date_range(start=datetime(2018,9,1),\r\n",
        "              end=datetime(2019,1,24),\r\n",
        "              freq='B') # 비즈니스데이 : 주말을 뺀 날"
      ],
      "execution_count": null,
      "outputs": []
    },
    {
      "cell_type": "code",
      "metadata": {
        "id": "zm1gT87oty0R"
      },
      "source": [
        "daily_daterange = \\\r\n",
        "pd.DataFrame({'value':np.random.rand(len(daily_daterange))},\r\n",
        "             index=daily_daterange)"
      ],
      "execution_count": null,
      "outputs": []
    },
    {
      "cell_type": "code",
      "metadata": {
        "colab": {
          "base_uri": "https://localhost:8080/",
          "height": 359
        },
        "id": "4-iQiYjbuqnk",
        "outputId": "03b92c76-32eb-4d3d-9a27-c8d34efccb7f"
      },
      "source": [
        "daily_daterange.head(10)"
      ],
      "execution_count": null,
      "outputs": [
        {
          "output_type": "execute_result",
          "data": {
            "text/html": [
              "<div>\n",
              "<style scoped>\n",
              "    .dataframe tbody tr th:only-of-type {\n",
              "        vertical-align: middle;\n",
              "    }\n",
              "\n",
              "    .dataframe tbody tr th {\n",
              "        vertical-align: top;\n",
              "    }\n",
              "\n",
              "    .dataframe thead th {\n",
              "        text-align: right;\n",
              "    }\n",
              "</style>\n",
              "<table border=\"1\" class=\"dataframe\">\n",
              "  <thead>\n",
              "    <tr style=\"text-align: right;\">\n",
              "      <th></th>\n",
              "      <th>value</th>\n",
              "    </tr>\n",
              "  </thead>\n",
              "  <tbody>\n",
              "    <tr>\n",
              "      <th>2018-09-03</th>\n",
              "      <td>0.667086</td>\n",
              "    </tr>\n",
              "    <tr>\n",
              "      <th>2018-09-04</th>\n",
              "      <td>0.121293</td>\n",
              "    </tr>\n",
              "    <tr>\n",
              "      <th>2018-09-05</th>\n",
              "      <td>0.986272</td>\n",
              "    </tr>\n",
              "    <tr>\n",
              "      <th>2018-09-06</th>\n",
              "      <td>0.742815</td>\n",
              "    </tr>\n",
              "    <tr>\n",
              "      <th>2018-09-07</th>\n",
              "      <td>0.986217</td>\n",
              "    </tr>\n",
              "    <tr>\n",
              "      <th>2018-09-10</th>\n",
              "      <td>0.448082</td>\n",
              "    </tr>\n",
              "    <tr>\n",
              "      <th>2018-09-11</th>\n",
              "      <td>0.820114</td>\n",
              "    </tr>\n",
              "    <tr>\n",
              "      <th>2018-09-12</th>\n",
              "      <td>0.362062</td>\n",
              "    </tr>\n",
              "    <tr>\n",
              "      <th>2018-09-13</th>\n",
              "      <td>0.725667</td>\n",
              "    </tr>\n",
              "    <tr>\n",
              "      <th>2018-09-14</th>\n",
              "      <td>0.228702</td>\n",
              "    </tr>\n",
              "  </tbody>\n",
              "</table>\n",
              "</div>"
            ],
            "text/plain": [
              "               value\n",
              "2018-09-03  0.667086\n",
              "2018-09-04  0.121293\n",
              "2018-09-05  0.986272\n",
              "2018-09-06  0.742815\n",
              "2018-09-07  0.986217\n",
              "2018-09-10  0.448082\n",
              "2018-09-11  0.820114\n",
              "2018-09-12  0.362062\n",
              "2018-09-13  0.725667\n",
              "2018-09-14  0.228702"
            ]
          },
          "metadata": {
            "tags": []
          },
          "execution_count": 158
        }
      ]
    },
    {
      "cell_type": "code",
      "metadata": {
        "colab": {
          "base_uri": "https://localhost:8080/",
          "height": 731
        },
        "id": "170qXiI2uukO",
        "outputId": "d063af43-52f0-43fa-bf76-636bc6512659"
      },
      "source": [
        "daily_daterange.resample('W-MON').min()"
      ],
      "execution_count": null,
      "outputs": [
        {
          "output_type": "execute_result",
          "data": {
            "text/html": [
              "<div>\n",
              "<style scoped>\n",
              "    .dataframe tbody tr th:only-of-type {\n",
              "        vertical-align: middle;\n",
              "    }\n",
              "\n",
              "    .dataframe tbody tr th {\n",
              "        vertical-align: top;\n",
              "    }\n",
              "\n",
              "    .dataframe thead th {\n",
              "        text-align: right;\n",
              "    }\n",
              "</style>\n",
              "<table border=\"1\" class=\"dataframe\">\n",
              "  <thead>\n",
              "    <tr style=\"text-align: right;\">\n",
              "      <th></th>\n",
              "      <th>value</th>\n",
              "    </tr>\n",
              "  </thead>\n",
              "  <tbody>\n",
              "    <tr>\n",
              "      <th>2018-09-03</th>\n",
              "      <td>0.667086</td>\n",
              "    </tr>\n",
              "    <tr>\n",
              "      <th>2018-09-10</th>\n",
              "      <td>0.121293</td>\n",
              "    </tr>\n",
              "    <tr>\n",
              "      <th>2018-09-17</th>\n",
              "      <td>0.228702</td>\n",
              "    </tr>\n",
              "    <tr>\n",
              "      <th>2018-09-24</th>\n",
              "      <td>0.106179</td>\n",
              "    </tr>\n",
              "    <tr>\n",
              "      <th>2018-10-01</th>\n",
              "      <td>0.013008</td>\n",
              "    </tr>\n",
              "    <tr>\n",
              "      <th>2018-10-08</th>\n",
              "      <td>0.069802</td>\n",
              "    </tr>\n",
              "    <tr>\n",
              "      <th>2018-10-15</th>\n",
              "      <td>0.172782</td>\n",
              "    </tr>\n",
              "    <tr>\n",
              "      <th>2018-10-22</th>\n",
              "      <td>0.494739</td>\n",
              "    </tr>\n",
              "    <tr>\n",
              "      <th>2018-10-29</th>\n",
              "      <td>0.048949</td>\n",
              "    </tr>\n",
              "    <tr>\n",
              "      <th>2018-11-05</th>\n",
              "      <td>0.296644</td>\n",
              "    </tr>\n",
              "    <tr>\n",
              "      <th>2018-11-12</th>\n",
              "      <td>0.025712</td>\n",
              "    </tr>\n",
              "    <tr>\n",
              "      <th>2018-11-19</th>\n",
              "      <td>0.027288</td>\n",
              "    </tr>\n",
              "    <tr>\n",
              "      <th>2018-11-26</th>\n",
              "      <td>0.001683</td>\n",
              "    </tr>\n",
              "    <tr>\n",
              "      <th>2018-12-03</th>\n",
              "      <td>0.169312</td>\n",
              "    </tr>\n",
              "    <tr>\n",
              "      <th>2018-12-10</th>\n",
              "      <td>0.133430</td>\n",
              "    </tr>\n",
              "    <tr>\n",
              "      <th>2018-12-17</th>\n",
              "      <td>0.311922</td>\n",
              "    </tr>\n",
              "    <tr>\n",
              "      <th>2018-12-24</th>\n",
              "      <td>0.027341</td>\n",
              "    </tr>\n",
              "    <tr>\n",
              "      <th>2018-12-31</th>\n",
              "      <td>0.185010</td>\n",
              "    </tr>\n",
              "    <tr>\n",
              "      <th>2019-01-07</th>\n",
              "      <td>0.285517</td>\n",
              "    </tr>\n",
              "    <tr>\n",
              "      <th>2019-01-14</th>\n",
              "      <td>0.208227</td>\n",
              "    </tr>\n",
              "    <tr>\n",
              "      <th>2019-01-21</th>\n",
              "      <td>0.063433</td>\n",
              "    </tr>\n",
              "    <tr>\n",
              "      <th>2019-01-28</th>\n",
              "      <td>0.020111</td>\n",
              "    </tr>\n",
              "  </tbody>\n",
              "</table>\n",
              "</div>"
            ],
            "text/plain": [
              "               value\n",
              "2018-09-03  0.667086\n",
              "2018-09-10  0.121293\n",
              "2018-09-17  0.228702\n",
              "2018-09-24  0.106179\n",
              "2018-10-01  0.013008\n",
              "2018-10-08  0.069802\n",
              "2018-10-15  0.172782\n",
              "2018-10-22  0.494739\n",
              "2018-10-29  0.048949\n",
              "2018-11-05  0.296644\n",
              "2018-11-12  0.025712\n",
              "2018-11-19  0.027288\n",
              "2018-11-26  0.001683\n",
              "2018-12-03  0.169312\n",
              "2018-12-10  0.133430\n",
              "2018-12-17  0.311922\n",
              "2018-12-24  0.027341\n",
              "2018-12-31  0.185010\n",
              "2019-01-07  0.285517\n",
              "2019-01-14  0.208227\n",
              "2019-01-21  0.063433\n",
              "2019-01-28  0.020111"
            ]
          },
          "metadata": {
            "tags": []
          },
          "execution_count": 159
        }
      ]
    },
    {
      "cell_type": "code",
      "metadata": {
        "colab": {
          "base_uri": "https://localhost:8080/",
          "height": 204
        },
        "id": "8rgk7fcXu3kv",
        "outputId": "0e5b9d1b-374f-4dca-e85f-c08916b7e4a0"
      },
      "source": [
        "daily_daterange.resample('M').min()"
      ],
      "execution_count": null,
      "outputs": [
        {
          "output_type": "execute_result",
          "data": {
            "text/html": [
              "<div>\n",
              "<style scoped>\n",
              "    .dataframe tbody tr th:only-of-type {\n",
              "        vertical-align: middle;\n",
              "    }\n",
              "\n",
              "    .dataframe tbody tr th {\n",
              "        vertical-align: top;\n",
              "    }\n",
              "\n",
              "    .dataframe thead th {\n",
              "        text-align: right;\n",
              "    }\n",
              "</style>\n",
              "<table border=\"1\" class=\"dataframe\">\n",
              "  <thead>\n",
              "    <tr style=\"text-align: right;\">\n",
              "      <th></th>\n",
              "      <th>value</th>\n",
              "    </tr>\n",
              "  </thead>\n",
              "  <tbody>\n",
              "    <tr>\n",
              "      <th>2018-09-30</th>\n",
              "      <td>0.013008</td>\n",
              "    </tr>\n",
              "    <tr>\n",
              "      <th>2018-10-31</th>\n",
              "      <td>0.048949</td>\n",
              "    </tr>\n",
              "    <tr>\n",
              "      <th>2018-11-30</th>\n",
              "      <td>0.001683</td>\n",
              "    </tr>\n",
              "    <tr>\n",
              "      <th>2018-12-31</th>\n",
              "      <td>0.027341</td>\n",
              "    </tr>\n",
              "    <tr>\n",
              "      <th>2019-01-31</th>\n",
              "      <td>0.020111</td>\n",
              "    </tr>\n",
              "  </tbody>\n",
              "</table>\n",
              "</div>"
            ],
            "text/plain": [
              "               value\n",
              "2018-09-30  0.013008\n",
              "2018-10-31  0.048949\n",
              "2018-11-30  0.001683\n",
              "2018-12-31  0.027341\n",
              "2019-01-31  0.020111"
            ]
          },
          "metadata": {
            "tags": []
          },
          "execution_count": 160
        }
      ]
    },
    {
      "cell_type": "markdown",
      "metadata": {
        "id": "cZl5KKTKvL2g"
      },
      "source": [
        "# SHIFTING"
      ]
    },
    {
      "cell_type": "code",
      "metadata": {
        "id": "ZCOjwm27vDYn"
      },
      "source": [
        "df = pd.read_csv('/content/drive/MyDrive/Colab Notebooks/tacademy_timeseries/apple_stock.csv', index_col='Date')"
      ],
      "execution_count": null,
      "outputs": []
    },
    {
      "cell_type": "code",
      "metadata": {
        "colab": {
          "base_uri": "https://localhost:8080/",
          "height": 450
        },
        "id": "c___f4mHvapM",
        "outputId": "f2596c02-d7f4-4d1e-cff0-405e11e1aae8"
      },
      "source": [
        "df"
      ],
      "execution_count": null,
      "outputs": [
        {
          "output_type": "execute_result",
          "data": {
            "text/html": [
              "<div>\n",
              "<style scoped>\n",
              "    .dataframe tbody tr th:only-of-type {\n",
              "        vertical-align: middle;\n",
              "    }\n",
              "\n",
              "    .dataframe tbody tr th {\n",
              "        vertical-align: top;\n",
              "    }\n",
              "\n",
              "    .dataframe thead th {\n",
              "        text-align: right;\n",
              "    }\n",
              "</style>\n",
              "<table border=\"1\" class=\"dataframe\">\n",
              "  <thead>\n",
              "    <tr style=\"text-align: right;\">\n",
              "      <th></th>\n",
              "      <th>High</th>\n",
              "      <th>Low</th>\n",
              "      <th>Open</th>\n",
              "      <th>Close</th>\n",
              "      <th>Volume</th>\n",
              "      <th>Adj Close</th>\n",
              "    </tr>\n",
              "    <tr>\n",
              "      <th>Date</th>\n",
              "      <th></th>\n",
              "      <th></th>\n",
              "      <th></th>\n",
              "      <th></th>\n",
              "      <th></th>\n",
              "      <th></th>\n",
              "    </tr>\n",
              "  </thead>\n",
              "  <tbody>\n",
              "    <tr>\n",
              "      <th>2009-12-31</th>\n",
              "      <td>30.478571</td>\n",
              "      <td>30.080000</td>\n",
              "      <td>30.447144</td>\n",
              "      <td>30.104286</td>\n",
              "      <td>88102700.0</td>\n",
              "      <td>20.159719</td>\n",
              "    </tr>\n",
              "    <tr>\n",
              "      <th>2010-01-04</th>\n",
              "      <td>30.642857</td>\n",
              "      <td>30.340000</td>\n",
              "      <td>30.490000</td>\n",
              "      <td>30.572857</td>\n",
              "      <td>123432400.0</td>\n",
              "      <td>20.473503</td>\n",
              "    </tr>\n",
              "    <tr>\n",
              "      <th>2010-01-05</th>\n",
              "      <td>30.798571</td>\n",
              "      <td>30.464285</td>\n",
              "      <td>30.657143</td>\n",
              "      <td>30.625713</td>\n",
              "      <td>150476200.0</td>\n",
              "      <td>20.508902</td>\n",
              "    </tr>\n",
              "    <tr>\n",
              "      <th>2010-01-06</th>\n",
              "      <td>30.747143</td>\n",
              "      <td>30.107143</td>\n",
              "      <td>30.625713</td>\n",
              "      <td>30.138571</td>\n",
              "      <td>138040000.0</td>\n",
              "      <td>20.182680</td>\n",
              "    </tr>\n",
              "    <tr>\n",
              "      <th>2010-01-07</th>\n",
              "      <td>30.285715</td>\n",
              "      <td>29.864286</td>\n",
              "      <td>30.250000</td>\n",
              "      <td>30.082857</td>\n",
              "      <td>119282800.0</td>\n",
              "      <td>20.145369</td>\n",
              "    </tr>\n",
              "    <tr>\n",
              "      <th>...</th>\n",
              "      <td>...</td>\n",
              "      <td>...</td>\n",
              "      <td>...</td>\n",
              "      <td>...</td>\n",
              "      <td>...</td>\n",
              "      <td>...</td>\n",
              "    </tr>\n",
              "    <tr>\n",
              "      <th>2018-12-24</th>\n",
              "      <td>151.550003</td>\n",
              "      <td>146.589996</td>\n",
              "      <td>148.149994</td>\n",
              "      <td>146.830002</td>\n",
              "      <td>37169200.0</td>\n",
              "      <td>146.830002</td>\n",
              "    </tr>\n",
              "    <tr>\n",
              "      <th>2018-12-26</th>\n",
              "      <td>157.229996</td>\n",
              "      <td>146.720001</td>\n",
              "      <td>148.300003</td>\n",
              "      <td>157.169998</td>\n",
              "      <td>58582500.0</td>\n",
              "      <td>157.169998</td>\n",
              "    </tr>\n",
              "    <tr>\n",
              "      <th>2018-12-27</th>\n",
              "      <td>156.770004</td>\n",
              "      <td>150.070007</td>\n",
              "      <td>155.839996</td>\n",
              "      <td>156.149994</td>\n",
              "      <td>53117100.0</td>\n",
              "      <td>156.149994</td>\n",
              "    </tr>\n",
              "    <tr>\n",
              "      <th>2018-12-28</th>\n",
              "      <td>158.520004</td>\n",
              "      <td>154.550003</td>\n",
              "      <td>157.500000</td>\n",
              "      <td>156.229996</td>\n",
              "      <td>42291400.0</td>\n",
              "      <td>156.229996</td>\n",
              "    </tr>\n",
              "    <tr>\n",
              "      <th>2018-12-31</th>\n",
              "      <td>159.360001</td>\n",
              "      <td>156.479996</td>\n",
              "      <td>158.529999</td>\n",
              "      <td>157.740005</td>\n",
              "      <td>35003500.0</td>\n",
              "      <td>157.740005</td>\n",
              "    </tr>\n",
              "  </tbody>\n",
              "</table>\n",
              "<p>2265 rows × 6 columns</p>\n",
              "</div>"
            ],
            "text/plain": [
              "                  High         Low  ...       Volume   Adj Close\n",
              "Date                                ...                         \n",
              "2009-12-31   30.478571   30.080000  ...   88102700.0   20.159719\n",
              "2010-01-04   30.642857   30.340000  ...  123432400.0   20.473503\n",
              "2010-01-05   30.798571   30.464285  ...  150476200.0   20.508902\n",
              "2010-01-06   30.747143   30.107143  ...  138040000.0   20.182680\n",
              "2010-01-07   30.285715   29.864286  ...  119282800.0   20.145369\n",
              "...                ...         ...  ...          ...         ...\n",
              "2018-12-24  151.550003  146.589996  ...   37169200.0  146.830002\n",
              "2018-12-26  157.229996  146.720001  ...   58582500.0  157.169998\n",
              "2018-12-27  156.770004  150.070007  ...   53117100.0  156.149994\n",
              "2018-12-28  158.520004  154.550003  ...   42291400.0  156.229996\n",
              "2018-12-31  159.360001  156.479996  ...   35003500.0  157.740005\n",
              "\n",
              "[2265 rows x 6 columns]"
            ]
          },
          "metadata": {
            "tags": []
          },
          "execution_count": 162
        }
      ]
    },
    {
      "cell_type": "code",
      "metadata": {
        "colab": {
          "base_uri": "https://localhost:8080/"
        },
        "id": "DER7vbKGvgAp",
        "outputId": "c2518be7-a281-44fc-c66e-4ba7ef904bc6"
      },
      "source": [
        "df.index # dtype='object'"
      ],
      "execution_count": null,
      "outputs": [
        {
          "output_type": "execute_result",
          "data": {
            "text/plain": [
              "Index(['2009-12-31', '2010-01-04', '2010-01-05', '2010-01-06', '2010-01-07',\n",
              "       '2010-01-08', '2010-01-11', '2010-01-12', '2010-01-13', '2010-01-14',\n",
              "       ...\n",
              "       '2018-12-17', '2018-12-18', '2018-12-19', '2018-12-20', '2018-12-21',\n",
              "       '2018-12-24', '2018-12-26', '2018-12-27', '2018-12-28', '2018-12-31'],\n",
              "      dtype='object', name='Date', length=2265)"
            ]
          },
          "metadata": {
            "tags": []
          },
          "execution_count": 163
        }
      ]
    },
    {
      "cell_type": "code",
      "metadata": {
        "id": "pGZQAEaTvhwZ"
      },
      "source": [
        "df.index = pd.to_datetime(df.index)"
      ],
      "execution_count": null,
      "outputs": []
    },
    {
      "cell_type": "code",
      "metadata": {
        "colab": {
          "base_uri": "https://localhost:8080/"
        },
        "id": "ok_-6S8fvrld",
        "outputId": "67223695-8dcc-40bd-d1bc-29b39fe4e10c"
      },
      "source": [
        "df.index # dtype='datetime64'"
      ],
      "execution_count": null,
      "outputs": [
        {
          "output_type": "execute_result",
          "data": {
            "text/plain": [
              "DatetimeIndex(['2009-12-31', '2010-01-04', '2010-01-05', '2010-01-06',\n",
              "               '2010-01-07', '2010-01-08', '2010-01-11', '2010-01-12',\n",
              "               '2010-01-13', '2010-01-14',\n",
              "               ...\n",
              "               '2018-12-17', '2018-12-18', '2018-12-19', '2018-12-20',\n",
              "               '2018-12-21', '2018-12-24', '2018-12-26', '2018-12-27',\n",
              "               '2018-12-28', '2018-12-31'],\n",
              "              dtype='datetime64[ns]', name='Date', length=2265, freq=None)"
            ]
          },
          "metadata": {
            "tags": []
          },
          "execution_count": 165
        }
      ]
    },
    {
      "cell_type": "code",
      "metadata": {
        "colab": {
          "base_uri": "https://localhost:8080/",
          "height": 235
        },
        "id": "maUmq3UbvtCi",
        "outputId": "554cd2f4-6791-4cfa-b5b4-38704bbfe2b5"
      },
      "source": [
        "df.head()"
      ],
      "execution_count": null,
      "outputs": [
        {
          "output_type": "execute_result",
          "data": {
            "text/html": [
              "<div>\n",
              "<style scoped>\n",
              "    .dataframe tbody tr th:only-of-type {\n",
              "        vertical-align: middle;\n",
              "    }\n",
              "\n",
              "    .dataframe tbody tr th {\n",
              "        vertical-align: top;\n",
              "    }\n",
              "\n",
              "    .dataframe thead th {\n",
              "        text-align: right;\n",
              "    }\n",
              "</style>\n",
              "<table border=\"1\" class=\"dataframe\">\n",
              "  <thead>\n",
              "    <tr style=\"text-align: right;\">\n",
              "      <th></th>\n",
              "      <th>High</th>\n",
              "      <th>Low</th>\n",
              "      <th>Open</th>\n",
              "      <th>Close</th>\n",
              "      <th>Volume</th>\n",
              "      <th>Adj Close</th>\n",
              "    </tr>\n",
              "    <tr>\n",
              "      <th>Date</th>\n",
              "      <th></th>\n",
              "      <th></th>\n",
              "      <th></th>\n",
              "      <th></th>\n",
              "      <th></th>\n",
              "      <th></th>\n",
              "    </tr>\n",
              "  </thead>\n",
              "  <tbody>\n",
              "    <tr>\n",
              "      <th>2009-12-31</th>\n",
              "      <td>30.478571</td>\n",
              "      <td>30.080000</td>\n",
              "      <td>30.447144</td>\n",
              "      <td>30.104286</td>\n",
              "      <td>88102700.0</td>\n",
              "      <td>20.159719</td>\n",
              "    </tr>\n",
              "    <tr>\n",
              "      <th>2010-01-04</th>\n",
              "      <td>30.642857</td>\n",
              "      <td>30.340000</td>\n",
              "      <td>30.490000</td>\n",
              "      <td>30.572857</td>\n",
              "      <td>123432400.0</td>\n",
              "      <td>20.473503</td>\n",
              "    </tr>\n",
              "    <tr>\n",
              "      <th>2010-01-05</th>\n",
              "      <td>30.798571</td>\n",
              "      <td>30.464285</td>\n",
              "      <td>30.657143</td>\n",
              "      <td>30.625713</td>\n",
              "      <td>150476200.0</td>\n",
              "      <td>20.508902</td>\n",
              "    </tr>\n",
              "    <tr>\n",
              "      <th>2010-01-06</th>\n",
              "      <td>30.747143</td>\n",
              "      <td>30.107143</td>\n",
              "      <td>30.625713</td>\n",
              "      <td>30.138571</td>\n",
              "      <td>138040000.0</td>\n",
              "      <td>20.182680</td>\n",
              "    </tr>\n",
              "    <tr>\n",
              "      <th>2010-01-07</th>\n",
              "      <td>30.285715</td>\n",
              "      <td>29.864286</td>\n",
              "      <td>30.250000</td>\n",
              "      <td>30.082857</td>\n",
              "      <td>119282800.0</td>\n",
              "      <td>20.145369</td>\n",
              "    </tr>\n",
              "  </tbody>\n",
              "</table>\n",
              "</div>"
            ],
            "text/plain": [
              "                 High        Low       Open      Close       Volume  Adj Close\n",
              "Date                                                                          \n",
              "2009-12-31  30.478571  30.080000  30.447144  30.104286   88102700.0  20.159719\n",
              "2010-01-04  30.642857  30.340000  30.490000  30.572857  123432400.0  20.473503\n",
              "2010-01-05  30.798571  30.464285  30.657143  30.625713  150476200.0  20.508902\n",
              "2010-01-06  30.747143  30.107143  30.625713  30.138571  138040000.0  20.182680\n",
              "2010-01-07  30.285715  29.864286  30.250000  30.082857  119282800.0  20.145369"
            ]
          },
          "metadata": {
            "tags": []
          },
          "execution_count": 166
        }
      ]
    },
    {
      "cell_type": "code",
      "metadata": {
        "id": "IJY1SMcov0dH"
      },
      "source": [
        "temp = np.asarray(df['Close']) # 종가(='Close')를 넘파이어레이(넘파이배열)로 만들어서 temp 변수에 저장"
      ],
      "execution_count": null,
      "outputs": []
    },
    {
      "cell_type": "code",
      "metadata": {
        "colab": {
          "base_uri": "https://localhost:8080/"
        },
        "id": "rv1EFTplv7n8",
        "outputId": "664cd061-dc73-4c1a-e2a6-a9ee2108ca65"
      },
      "source": [
        "temp"
      ],
      "execution_count": null,
      "outputs": [
        {
          "output_type": "execute_result",
          "data": {
            "text/plain": [
              "array([ 30.10428619,  30.5728569 ,  30.62571335, ..., 156.1499939 ,\n",
              "       156.22999573, 157.74000549])"
            ]
          },
          "metadata": {
            "tags": []
          },
          "execution_count": 168
        }
      ]
    },
    {
      "cell_type": "code",
      "metadata": {
        "colab": {
          "base_uri": "https://localhost:8080/"
        },
        "id": "BVcWd-Dgv8Eo",
        "outputId": "de5d607e-2de4-4e61-e9f0-700e37b11b2d"
      },
      "source": [
        "temp[:-1]"
      ],
      "execution_count": null,
      "outputs": [
        {
          "output_type": "execute_result",
          "data": {
            "text/plain": [
              "array([ 30.10428619,  30.5728569 ,  30.62571335, ..., 157.16999817,\n",
              "       156.1499939 , 156.22999573])"
            ]
          },
          "metadata": {
            "tags": []
          },
          "execution_count": 169
        }
      ]
    },
    {
      "cell_type": "code",
      "metadata": {
        "colab": {
          "base_uri": "https://localhost:8080/"
        },
        "id": "7fAFXSGEwKkQ",
        "outputId": "229ee682-c799-4016-e53f-3412bb9e217f"
      },
      "source": [
        "temp[1:]"
      ],
      "execution_count": null,
      "outputs": [
        {
          "output_type": "execute_result",
          "data": {
            "text/plain": [
              "array([ 30.5728569 ,  30.62571335,  30.13857079, ..., 156.1499939 ,\n",
              "       156.22999573, 157.74000549])"
            ]
          },
          "metadata": {
            "tags": []
          },
          "execution_count": 170
        }
      ]
    },
    {
      "cell_type": "code",
      "metadata": {
        "id": "y4RjFmKewa0r",
        "colab": {
          "base_uri": "https://localhost:8080/",
          "height": 235
        },
        "outputId": "841d425f-297f-4aff-e0dd-22a9f09d808b"
      },
      "source": [
        "df.shift(1).head()"
      ],
      "execution_count": null,
      "outputs": [
        {
          "output_type": "execute_result",
          "data": {
            "text/html": [
              "<div>\n",
              "<style scoped>\n",
              "    .dataframe tbody tr th:only-of-type {\n",
              "        vertical-align: middle;\n",
              "    }\n",
              "\n",
              "    .dataframe tbody tr th {\n",
              "        vertical-align: top;\n",
              "    }\n",
              "\n",
              "    .dataframe thead th {\n",
              "        text-align: right;\n",
              "    }\n",
              "</style>\n",
              "<table border=\"1\" class=\"dataframe\">\n",
              "  <thead>\n",
              "    <tr style=\"text-align: right;\">\n",
              "      <th></th>\n",
              "      <th>High</th>\n",
              "      <th>Low</th>\n",
              "      <th>Open</th>\n",
              "      <th>Close</th>\n",
              "      <th>Volume</th>\n",
              "      <th>Adj Close</th>\n",
              "    </tr>\n",
              "    <tr>\n",
              "      <th>Date</th>\n",
              "      <th></th>\n",
              "      <th></th>\n",
              "      <th></th>\n",
              "      <th></th>\n",
              "      <th></th>\n",
              "      <th></th>\n",
              "    </tr>\n",
              "  </thead>\n",
              "  <tbody>\n",
              "    <tr>\n",
              "      <th>2009-12-31</th>\n",
              "      <td>NaN</td>\n",
              "      <td>NaN</td>\n",
              "      <td>NaN</td>\n",
              "      <td>NaN</td>\n",
              "      <td>NaN</td>\n",
              "      <td>NaN</td>\n",
              "    </tr>\n",
              "    <tr>\n",
              "      <th>2010-01-04</th>\n",
              "      <td>30.478571</td>\n",
              "      <td>30.080000</td>\n",
              "      <td>30.447144</td>\n",
              "      <td>30.104286</td>\n",
              "      <td>88102700.0</td>\n",
              "      <td>20.159719</td>\n",
              "    </tr>\n",
              "    <tr>\n",
              "      <th>2010-01-05</th>\n",
              "      <td>30.642857</td>\n",
              "      <td>30.340000</td>\n",
              "      <td>30.490000</td>\n",
              "      <td>30.572857</td>\n",
              "      <td>123432400.0</td>\n",
              "      <td>20.473503</td>\n",
              "    </tr>\n",
              "    <tr>\n",
              "      <th>2010-01-06</th>\n",
              "      <td>30.798571</td>\n",
              "      <td>30.464285</td>\n",
              "      <td>30.657143</td>\n",
              "      <td>30.625713</td>\n",
              "      <td>150476200.0</td>\n",
              "      <td>20.508902</td>\n",
              "    </tr>\n",
              "    <tr>\n",
              "      <th>2010-01-07</th>\n",
              "      <td>30.747143</td>\n",
              "      <td>30.107143</td>\n",
              "      <td>30.625713</td>\n",
              "      <td>30.138571</td>\n",
              "      <td>138040000.0</td>\n",
              "      <td>20.182680</td>\n",
              "    </tr>\n",
              "  </tbody>\n",
              "</table>\n",
              "</div>"
            ],
            "text/plain": [
              "                 High        Low       Open      Close       Volume  Adj Close\n",
              "Date                                                                          \n",
              "2009-12-31        NaN        NaN        NaN        NaN          NaN        NaN\n",
              "2010-01-04  30.478571  30.080000  30.447144  30.104286   88102700.0  20.159719\n",
              "2010-01-05  30.642857  30.340000  30.490000  30.572857  123432400.0  20.473503\n",
              "2010-01-06  30.798571  30.464285  30.657143  30.625713  150476200.0  20.508902\n",
              "2010-01-07  30.747143  30.107143  30.625713  30.138571  138040000.0  20.182680"
            ]
          },
          "metadata": {
            "tags": []
          },
          "execution_count": 171
        }
      ]
    },
    {
      "cell_type": "code",
      "metadata": {
        "colab": {
          "base_uri": "https://localhost:8080/",
          "height": 235
        },
        "id": "BGqwKn59Jnby",
        "outputId": "127dba65-59e7-40f6-b2ff-d363c2eba15e"
      },
      "source": [
        "df.shift(1).tail()"
      ],
      "execution_count": null,
      "outputs": [
        {
          "output_type": "execute_result",
          "data": {
            "text/html": [
              "<div>\n",
              "<style scoped>\n",
              "    .dataframe tbody tr th:only-of-type {\n",
              "        vertical-align: middle;\n",
              "    }\n",
              "\n",
              "    .dataframe tbody tr th {\n",
              "        vertical-align: top;\n",
              "    }\n",
              "\n",
              "    .dataframe thead th {\n",
              "        text-align: right;\n",
              "    }\n",
              "</style>\n",
              "<table border=\"1\" class=\"dataframe\">\n",
              "  <thead>\n",
              "    <tr style=\"text-align: right;\">\n",
              "      <th></th>\n",
              "      <th>High</th>\n",
              "      <th>Low</th>\n",
              "      <th>Open</th>\n",
              "      <th>Close</th>\n",
              "      <th>Volume</th>\n",
              "      <th>Adj Close</th>\n",
              "    </tr>\n",
              "    <tr>\n",
              "      <th>Date</th>\n",
              "      <th></th>\n",
              "      <th></th>\n",
              "      <th></th>\n",
              "      <th></th>\n",
              "      <th></th>\n",
              "      <th></th>\n",
              "    </tr>\n",
              "  </thead>\n",
              "  <tbody>\n",
              "    <tr>\n",
              "      <th>2018-12-24</th>\n",
              "      <td>158.160004</td>\n",
              "      <td>149.630005</td>\n",
              "      <td>156.860001</td>\n",
              "      <td>150.729996</td>\n",
              "      <td>95744600.0</td>\n",
              "      <td>150.729996</td>\n",
              "    </tr>\n",
              "    <tr>\n",
              "      <th>2018-12-26</th>\n",
              "      <td>151.550003</td>\n",
              "      <td>146.589996</td>\n",
              "      <td>148.149994</td>\n",
              "      <td>146.830002</td>\n",
              "      <td>37169200.0</td>\n",
              "      <td>146.830002</td>\n",
              "    </tr>\n",
              "    <tr>\n",
              "      <th>2018-12-27</th>\n",
              "      <td>157.229996</td>\n",
              "      <td>146.720001</td>\n",
              "      <td>148.300003</td>\n",
              "      <td>157.169998</td>\n",
              "      <td>58582500.0</td>\n",
              "      <td>157.169998</td>\n",
              "    </tr>\n",
              "    <tr>\n",
              "      <th>2018-12-28</th>\n",
              "      <td>156.770004</td>\n",
              "      <td>150.070007</td>\n",
              "      <td>155.839996</td>\n",
              "      <td>156.149994</td>\n",
              "      <td>53117100.0</td>\n",
              "      <td>156.149994</td>\n",
              "    </tr>\n",
              "    <tr>\n",
              "      <th>2018-12-31</th>\n",
              "      <td>158.520004</td>\n",
              "      <td>154.550003</td>\n",
              "      <td>157.500000</td>\n",
              "      <td>156.229996</td>\n",
              "      <td>42291400.0</td>\n",
              "      <td>156.229996</td>\n",
              "    </tr>\n",
              "  </tbody>\n",
              "</table>\n",
              "</div>"
            ],
            "text/plain": [
              "                  High         Low  ...      Volume   Adj Close\n",
              "Date                                ...                        \n",
              "2018-12-24  158.160004  149.630005  ...  95744600.0  150.729996\n",
              "2018-12-26  151.550003  146.589996  ...  37169200.0  146.830002\n",
              "2018-12-27  157.229996  146.720001  ...  58582500.0  157.169998\n",
              "2018-12-28  156.770004  150.070007  ...  53117100.0  156.149994\n",
              "2018-12-31  158.520004  154.550003  ...  42291400.0  156.229996\n",
              "\n",
              "[5 rows x 6 columns]"
            ]
          },
          "metadata": {
            "tags": []
          },
          "execution_count": 172
        }
      ]
    },
    {
      "cell_type": "code",
      "metadata": {
        "colab": {
          "base_uri": "https://localhost:8080/",
          "height": 235
        },
        "id": "NahE5DwJKE5l",
        "outputId": "b910586d-43ca-4a3d-b871-2e1732bd9999"
      },
      "source": [
        "df.shift(-1).head()"
      ],
      "execution_count": null,
      "outputs": [
        {
          "output_type": "execute_result",
          "data": {
            "text/html": [
              "<div>\n",
              "<style scoped>\n",
              "    .dataframe tbody tr th:only-of-type {\n",
              "        vertical-align: middle;\n",
              "    }\n",
              "\n",
              "    .dataframe tbody tr th {\n",
              "        vertical-align: top;\n",
              "    }\n",
              "\n",
              "    .dataframe thead th {\n",
              "        text-align: right;\n",
              "    }\n",
              "</style>\n",
              "<table border=\"1\" class=\"dataframe\">\n",
              "  <thead>\n",
              "    <tr style=\"text-align: right;\">\n",
              "      <th></th>\n",
              "      <th>High</th>\n",
              "      <th>Low</th>\n",
              "      <th>Open</th>\n",
              "      <th>Close</th>\n",
              "      <th>Volume</th>\n",
              "      <th>Adj Close</th>\n",
              "    </tr>\n",
              "    <tr>\n",
              "      <th>Date</th>\n",
              "      <th></th>\n",
              "      <th></th>\n",
              "      <th></th>\n",
              "      <th></th>\n",
              "      <th></th>\n",
              "      <th></th>\n",
              "    </tr>\n",
              "  </thead>\n",
              "  <tbody>\n",
              "    <tr>\n",
              "      <th>2009-12-31</th>\n",
              "      <td>30.642857</td>\n",
              "      <td>30.340000</td>\n",
              "      <td>30.490000</td>\n",
              "      <td>30.572857</td>\n",
              "      <td>123432400.0</td>\n",
              "      <td>20.473503</td>\n",
              "    </tr>\n",
              "    <tr>\n",
              "      <th>2010-01-04</th>\n",
              "      <td>30.798571</td>\n",
              "      <td>30.464285</td>\n",
              "      <td>30.657143</td>\n",
              "      <td>30.625713</td>\n",
              "      <td>150476200.0</td>\n",
              "      <td>20.508902</td>\n",
              "    </tr>\n",
              "    <tr>\n",
              "      <th>2010-01-05</th>\n",
              "      <td>30.747143</td>\n",
              "      <td>30.107143</td>\n",
              "      <td>30.625713</td>\n",
              "      <td>30.138571</td>\n",
              "      <td>138040000.0</td>\n",
              "      <td>20.182680</td>\n",
              "    </tr>\n",
              "    <tr>\n",
              "      <th>2010-01-06</th>\n",
              "      <td>30.285715</td>\n",
              "      <td>29.864286</td>\n",
              "      <td>30.250000</td>\n",
              "      <td>30.082857</td>\n",
              "      <td>119282800.0</td>\n",
              "      <td>20.145369</td>\n",
              "    </tr>\n",
              "    <tr>\n",
              "      <th>2010-01-07</th>\n",
              "      <td>30.285715</td>\n",
              "      <td>29.865715</td>\n",
              "      <td>30.042856</td>\n",
              "      <td>30.282858</td>\n",
              "      <td>111902700.0</td>\n",
              "      <td>20.279305</td>\n",
              "    </tr>\n",
              "  </tbody>\n",
              "</table>\n",
              "</div>"
            ],
            "text/plain": [
              "                 High        Low       Open      Close       Volume  Adj Close\n",
              "Date                                                                          \n",
              "2009-12-31  30.642857  30.340000  30.490000  30.572857  123432400.0  20.473503\n",
              "2010-01-04  30.798571  30.464285  30.657143  30.625713  150476200.0  20.508902\n",
              "2010-01-05  30.747143  30.107143  30.625713  30.138571  138040000.0  20.182680\n",
              "2010-01-06  30.285715  29.864286  30.250000  30.082857  119282800.0  20.145369\n",
              "2010-01-07  30.285715  29.865715  30.042856  30.282858  111902700.0  20.279305"
            ]
          },
          "metadata": {
            "tags": []
          },
          "execution_count": 173
        }
      ]
    },
    {
      "cell_type": "code",
      "metadata": {
        "colab": {
          "base_uri": "https://localhost:8080/",
          "height": 235
        },
        "id": "ZhaIgi81KIn8",
        "outputId": "d1cb0496-c1ee-4840-eef0-098e827bd6ea"
      },
      "source": [
        "df.shift(-1).tail()"
      ],
      "execution_count": null,
      "outputs": [
        {
          "output_type": "execute_result",
          "data": {
            "text/html": [
              "<div>\n",
              "<style scoped>\n",
              "    .dataframe tbody tr th:only-of-type {\n",
              "        vertical-align: middle;\n",
              "    }\n",
              "\n",
              "    .dataframe tbody tr th {\n",
              "        vertical-align: top;\n",
              "    }\n",
              "\n",
              "    .dataframe thead th {\n",
              "        text-align: right;\n",
              "    }\n",
              "</style>\n",
              "<table border=\"1\" class=\"dataframe\">\n",
              "  <thead>\n",
              "    <tr style=\"text-align: right;\">\n",
              "      <th></th>\n",
              "      <th>High</th>\n",
              "      <th>Low</th>\n",
              "      <th>Open</th>\n",
              "      <th>Close</th>\n",
              "      <th>Volume</th>\n",
              "      <th>Adj Close</th>\n",
              "    </tr>\n",
              "    <tr>\n",
              "      <th>Date</th>\n",
              "      <th></th>\n",
              "      <th></th>\n",
              "      <th></th>\n",
              "      <th></th>\n",
              "      <th></th>\n",
              "      <th></th>\n",
              "    </tr>\n",
              "  </thead>\n",
              "  <tbody>\n",
              "    <tr>\n",
              "      <th>2018-12-24</th>\n",
              "      <td>157.229996</td>\n",
              "      <td>146.720001</td>\n",
              "      <td>148.300003</td>\n",
              "      <td>157.169998</td>\n",
              "      <td>58582500.0</td>\n",
              "      <td>157.169998</td>\n",
              "    </tr>\n",
              "    <tr>\n",
              "      <th>2018-12-26</th>\n",
              "      <td>156.770004</td>\n",
              "      <td>150.070007</td>\n",
              "      <td>155.839996</td>\n",
              "      <td>156.149994</td>\n",
              "      <td>53117100.0</td>\n",
              "      <td>156.149994</td>\n",
              "    </tr>\n",
              "    <tr>\n",
              "      <th>2018-12-27</th>\n",
              "      <td>158.520004</td>\n",
              "      <td>154.550003</td>\n",
              "      <td>157.500000</td>\n",
              "      <td>156.229996</td>\n",
              "      <td>42291400.0</td>\n",
              "      <td>156.229996</td>\n",
              "    </tr>\n",
              "    <tr>\n",
              "      <th>2018-12-28</th>\n",
              "      <td>159.360001</td>\n",
              "      <td>156.479996</td>\n",
              "      <td>158.529999</td>\n",
              "      <td>157.740005</td>\n",
              "      <td>35003500.0</td>\n",
              "      <td>157.740005</td>\n",
              "    </tr>\n",
              "    <tr>\n",
              "      <th>2018-12-31</th>\n",
              "      <td>NaN</td>\n",
              "      <td>NaN</td>\n",
              "      <td>NaN</td>\n",
              "      <td>NaN</td>\n",
              "      <td>NaN</td>\n",
              "      <td>NaN</td>\n",
              "    </tr>\n",
              "  </tbody>\n",
              "</table>\n",
              "</div>"
            ],
            "text/plain": [
              "                  High         Low  ...      Volume   Adj Close\n",
              "Date                                ...                        \n",
              "2018-12-24  157.229996  146.720001  ...  58582500.0  157.169998\n",
              "2018-12-26  156.770004  150.070007  ...  53117100.0  156.149994\n",
              "2018-12-27  158.520004  154.550003  ...  42291400.0  156.229996\n",
              "2018-12-28  159.360001  156.479996  ...  35003500.0  157.740005\n",
              "2018-12-31         NaN         NaN  ...         NaN         NaN\n",
              "\n",
              "[5 rows x 6 columns]"
            ]
          },
          "metadata": {
            "tags": []
          },
          "execution_count": 174
        }
      ]
    },
    {
      "cell_type": "code",
      "metadata": {
        "colab": {
          "base_uri": "https://localhost:8080/",
          "height": 235
        },
        "id": "__3RJacQKLDn",
        "outputId": "573b3443-20c9-4457-f788-c1c7f86daabb"
      },
      "source": [
        "df.tshift(freq='M', periods=1).head()"
      ],
      "execution_count": null,
      "outputs": [
        {
          "output_type": "execute_result",
          "data": {
            "text/html": [
              "<div>\n",
              "<style scoped>\n",
              "    .dataframe tbody tr th:only-of-type {\n",
              "        vertical-align: middle;\n",
              "    }\n",
              "\n",
              "    .dataframe tbody tr th {\n",
              "        vertical-align: top;\n",
              "    }\n",
              "\n",
              "    .dataframe thead th {\n",
              "        text-align: right;\n",
              "    }\n",
              "</style>\n",
              "<table border=\"1\" class=\"dataframe\">\n",
              "  <thead>\n",
              "    <tr style=\"text-align: right;\">\n",
              "      <th></th>\n",
              "      <th>High</th>\n",
              "      <th>Low</th>\n",
              "      <th>Open</th>\n",
              "      <th>Close</th>\n",
              "      <th>Volume</th>\n",
              "      <th>Adj Close</th>\n",
              "    </tr>\n",
              "    <tr>\n",
              "      <th>Date</th>\n",
              "      <th></th>\n",
              "      <th></th>\n",
              "      <th></th>\n",
              "      <th></th>\n",
              "      <th></th>\n",
              "      <th></th>\n",
              "    </tr>\n",
              "  </thead>\n",
              "  <tbody>\n",
              "    <tr>\n",
              "      <th>2010-01-31</th>\n",
              "      <td>30.478571</td>\n",
              "      <td>30.080000</td>\n",
              "      <td>30.447144</td>\n",
              "      <td>30.104286</td>\n",
              "      <td>88102700.0</td>\n",
              "      <td>20.159719</td>\n",
              "    </tr>\n",
              "    <tr>\n",
              "      <th>2010-01-31</th>\n",
              "      <td>30.642857</td>\n",
              "      <td>30.340000</td>\n",
              "      <td>30.490000</td>\n",
              "      <td>30.572857</td>\n",
              "      <td>123432400.0</td>\n",
              "      <td>20.473503</td>\n",
              "    </tr>\n",
              "    <tr>\n",
              "      <th>2010-01-31</th>\n",
              "      <td>30.798571</td>\n",
              "      <td>30.464285</td>\n",
              "      <td>30.657143</td>\n",
              "      <td>30.625713</td>\n",
              "      <td>150476200.0</td>\n",
              "      <td>20.508902</td>\n",
              "    </tr>\n",
              "    <tr>\n",
              "      <th>2010-01-31</th>\n",
              "      <td>30.747143</td>\n",
              "      <td>30.107143</td>\n",
              "      <td>30.625713</td>\n",
              "      <td>30.138571</td>\n",
              "      <td>138040000.0</td>\n",
              "      <td>20.182680</td>\n",
              "    </tr>\n",
              "    <tr>\n",
              "      <th>2010-01-31</th>\n",
              "      <td>30.285715</td>\n",
              "      <td>29.864286</td>\n",
              "      <td>30.250000</td>\n",
              "      <td>30.082857</td>\n",
              "      <td>119282800.0</td>\n",
              "      <td>20.145369</td>\n",
              "    </tr>\n",
              "  </tbody>\n",
              "</table>\n",
              "</div>"
            ],
            "text/plain": [
              "                 High        Low       Open      Close       Volume  Adj Close\n",
              "Date                                                                          \n",
              "2010-01-31  30.478571  30.080000  30.447144  30.104286   88102700.0  20.159719\n",
              "2010-01-31  30.642857  30.340000  30.490000  30.572857  123432400.0  20.473503\n",
              "2010-01-31  30.798571  30.464285  30.657143  30.625713  150476200.0  20.508902\n",
              "2010-01-31  30.747143  30.107143  30.625713  30.138571  138040000.0  20.182680\n",
              "2010-01-31  30.285715  29.864286  30.250000  30.082857  119282800.0  20.145369"
            ]
          },
          "metadata": {
            "tags": []
          },
          "execution_count": 175
        }
      ]
    },
    {
      "cell_type": "markdown",
      "metadata": {
        "id": "7PLZ9ew2LeJP"
      },
      "source": [
        "# Rolling & Expanding"
      ]
    },
    {
      "cell_type": "code",
      "metadata": {
        "id": "JQVEzs44LPXq"
      },
      "source": [
        "# parse_dates = True 옵션\r\n",
        "df = pd.read_csv('/content/drive/MyDrive/Colab Notebooks/tacademy_timeseries/apple_stock.csv',\r\n",
        "                 index_col='Date',\r\n",
        "                 parse_dates=True)"
      ],
      "execution_count": null,
      "outputs": []
    },
    {
      "cell_type": "code",
      "metadata": {
        "colab": {
          "base_uri": "https://localhost:8080/"
        },
        "id": "PkhVz-ORQ72S",
        "outputId": "f6b77a77-f8ba-44e2-cce2-a3e12412a0f4"
      },
      "source": [
        "df.index"
      ],
      "execution_count": null,
      "outputs": [
        {
          "output_type": "execute_result",
          "data": {
            "text/plain": [
              "DatetimeIndex(['2009-12-31', '2010-01-04', '2010-01-05', '2010-01-06',\n",
              "               '2010-01-07', '2010-01-08', '2010-01-11', '2010-01-12',\n",
              "               '2010-01-13', '2010-01-14',\n",
              "               ...\n",
              "               '2018-12-17', '2018-12-18', '2018-12-19', '2018-12-20',\n",
              "               '2018-12-21', '2018-12-24', '2018-12-26', '2018-12-27',\n",
              "               '2018-12-28', '2018-12-31'],\n",
              "              dtype='datetime64[ns]', name='Date', length=2265, freq=None)"
            ]
          },
          "metadata": {
            "tags": []
          },
          "execution_count": 177
        }
      ]
    },
    {
      "cell_type": "code",
      "metadata": {
        "colab": {
          "base_uri": "https://localhost:8080/",
          "height": 450
        },
        "id": "LttmONueQ8Qb",
        "outputId": "e04e86b7-ec98-4cf6-c524-6dfdd4bf5597"
      },
      "source": [
        "df"
      ],
      "execution_count": null,
      "outputs": [
        {
          "output_type": "execute_result",
          "data": {
            "text/html": [
              "<div>\n",
              "<style scoped>\n",
              "    .dataframe tbody tr th:only-of-type {\n",
              "        vertical-align: middle;\n",
              "    }\n",
              "\n",
              "    .dataframe tbody tr th {\n",
              "        vertical-align: top;\n",
              "    }\n",
              "\n",
              "    .dataframe thead th {\n",
              "        text-align: right;\n",
              "    }\n",
              "</style>\n",
              "<table border=\"1\" class=\"dataframe\">\n",
              "  <thead>\n",
              "    <tr style=\"text-align: right;\">\n",
              "      <th></th>\n",
              "      <th>High</th>\n",
              "      <th>Low</th>\n",
              "      <th>Open</th>\n",
              "      <th>Close</th>\n",
              "      <th>Volume</th>\n",
              "      <th>Adj Close</th>\n",
              "    </tr>\n",
              "    <tr>\n",
              "      <th>Date</th>\n",
              "      <th></th>\n",
              "      <th></th>\n",
              "      <th></th>\n",
              "      <th></th>\n",
              "      <th></th>\n",
              "      <th></th>\n",
              "    </tr>\n",
              "  </thead>\n",
              "  <tbody>\n",
              "    <tr>\n",
              "      <th>2009-12-31</th>\n",
              "      <td>30.478571</td>\n",
              "      <td>30.080000</td>\n",
              "      <td>30.447144</td>\n",
              "      <td>30.104286</td>\n",
              "      <td>88102700.0</td>\n",
              "      <td>20.159719</td>\n",
              "    </tr>\n",
              "    <tr>\n",
              "      <th>2010-01-04</th>\n",
              "      <td>30.642857</td>\n",
              "      <td>30.340000</td>\n",
              "      <td>30.490000</td>\n",
              "      <td>30.572857</td>\n",
              "      <td>123432400.0</td>\n",
              "      <td>20.473503</td>\n",
              "    </tr>\n",
              "    <tr>\n",
              "      <th>2010-01-05</th>\n",
              "      <td>30.798571</td>\n",
              "      <td>30.464285</td>\n",
              "      <td>30.657143</td>\n",
              "      <td>30.625713</td>\n",
              "      <td>150476200.0</td>\n",
              "      <td>20.508902</td>\n",
              "    </tr>\n",
              "    <tr>\n",
              "      <th>2010-01-06</th>\n",
              "      <td>30.747143</td>\n",
              "      <td>30.107143</td>\n",
              "      <td>30.625713</td>\n",
              "      <td>30.138571</td>\n",
              "      <td>138040000.0</td>\n",
              "      <td>20.182680</td>\n",
              "    </tr>\n",
              "    <tr>\n",
              "      <th>2010-01-07</th>\n",
              "      <td>30.285715</td>\n",
              "      <td>29.864286</td>\n",
              "      <td>30.250000</td>\n",
              "      <td>30.082857</td>\n",
              "      <td>119282800.0</td>\n",
              "      <td>20.145369</td>\n",
              "    </tr>\n",
              "    <tr>\n",
              "      <th>...</th>\n",
              "      <td>...</td>\n",
              "      <td>...</td>\n",
              "      <td>...</td>\n",
              "      <td>...</td>\n",
              "      <td>...</td>\n",
              "      <td>...</td>\n",
              "    </tr>\n",
              "    <tr>\n",
              "      <th>2018-12-24</th>\n",
              "      <td>151.550003</td>\n",
              "      <td>146.589996</td>\n",
              "      <td>148.149994</td>\n",
              "      <td>146.830002</td>\n",
              "      <td>37169200.0</td>\n",
              "      <td>146.830002</td>\n",
              "    </tr>\n",
              "    <tr>\n",
              "      <th>2018-12-26</th>\n",
              "      <td>157.229996</td>\n",
              "      <td>146.720001</td>\n",
              "      <td>148.300003</td>\n",
              "      <td>157.169998</td>\n",
              "      <td>58582500.0</td>\n",
              "      <td>157.169998</td>\n",
              "    </tr>\n",
              "    <tr>\n",
              "      <th>2018-12-27</th>\n",
              "      <td>156.770004</td>\n",
              "      <td>150.070007</td>\n",
              "      <td>155.839996</td>\n",
              "      <td>156.149994</td>\n",
              "      <td>53117100.0</td>\n",
              "      <td>156.149994</td>\n",
              "    </tr>\n",
              "    <tr>\n",
              "      <th>2018-12-28</th>\n",
              "      <td>158.520004</td>\n",
              "      <td>154.550003</td>\n",
              "      <td>157.500000</td>\n",
              "      <td>156.229996</td>\n",
              "      <td>42291400.0</td>\n",
              "      <td>156.229996</td>\n",
              "    </tr>\n",
              "    <tr>\n",
              "      <th>2018-12-31</th>\n",
              "      <td>159.360001</td>\n",
              "      <td>156.479996</td>\n",
              "      <td>158.529999</td>\n",
              "      <td>157.740005</td>\n",
              "      <td>35003500.0</td>\n",
              "      <td>157.740005</td>\n",
              "    </tr>\n",
              "  </tbody>\n",
              "</table>\n",
              "<p>2265 rows × 6 columns</p>\n",
              "</div>"
            ],
            "text/plain": [
              "                  High         Low  ...       Volume   Adj Close\n",
              "Date                                ...                         \n",
              "2009-12-31   30.478571   30.080000  ...   88102700.0   20.159719\n",
              "2010-01-04   30.642857   30.340000  ...  123432400.0   20.473503\n",
              "2010-01-05   30.798571   30.464285  ...  150476200.0   20.508902\n",
              "2010-01-06   30.747143   30.107143  ...  138040000.0   20.182680\n",
              "2010-01-07   30.285715   29.864286  ...  119282800.0   20.145369\n",
              "...                ...         ...  ...          ...         ...\n",
              "2018-12-24  151.550003  146.589996  ...   37169200.0  146.830002\n",
              "2018-12-26  157.229996  146.720001  ...   58582500.0  157.169998\n",
              "2018-12-27  156.770004  150.070007  ...   53117100.0  156.149994\n",
              "2018-12-28  158.520004  154.550003  ...   42291400.0  156.229996\n",
              "2018-12-31  159.360001  156.479996  ...   35003500.0  157.740005\n",
              "\n",
              "[2265 rows x 6 columns]"
            ]
          },
          "metadata": {
            "tags": []
          },
          "execution_count": 178
        }
      ]
    },
    {
      "cell_type": "code",
      "metadata": {
        "id": "zO3IAwIXQ_Yf"
      },
      "source": [
        "# parse_dates = 직접 지정 옵션\r\n",
        "df = pd.read_csv('/content/drive/MyDrive/Colab Notebooks/tacademy_timeseries/apple_stock.csv',\r\n",
        "                 index_col='Date',\r\n",
        "                 parse_dates=['Date'])"
      ],
      "execution_count": null,
      "outputs": []
    },
    {
      "cell_type": "code",
      "metadata": {
        "colab": {
          "base_uri": "https://localhost:8080/",
          "height": 450
        },
        "id": "9OBDTHp9RZtf",
        "outputId": "64642288-f8e9-492c-c966-e6aab0fe47d6"
      },
      "source": [
        "df"
      ],
      "execution_count": null,
      "outputs": [
        {
          "output_type": "execute_result",
          "data": {
            "text/html": [
              "<div>\n",
              "<style scoped>\n",
              "    .dataframe tbody tr th:only-of-type {\n",
              "        vertical-align: middle;\n",
              "    }\n",
              "\n",
              "    .dataframe tbody tr th {\n",
              "        vertical-align: top;\n",
              "    }\n",
              "\n",
              "    .dataframe thead th {\n",
              "        text-align: right;\n",
              "    }\n",
              "</style>\n",
              "<table border=\"1\" class=\"dataframe\">\n",
              "  <thead>\n",
              "    <tr style=\"text-align: right;\">\n",
              "      <th></th>\n",
              "      <th>High</th>\n",
              "      <th>Low</th>\n",
              "      <th>Open</th>\n",
              "      <th>Close</th>\n",
              "      <th>Volume</th>\n",
              "      <th>Adj Close</th>\n",
              "    </tr>\n",
              "    <tr>\n",
              "      <th>Date</th>\n",
              "      <th></th>\n",
              "      <th></th>\n",
              "      <th></th>\n",
              "      <th></th>\n",
              "      <th></th>\n",
              "      <th></th>\n",
              "    </tr>\n",
              "  </thead>\n",
              "  <tbody>\n",
              "    <tr>\n",
              "      <th>2009-12-31</th>\n",
              "      <td>30.478571</td>\n",
              "      <td>30.080000</td>\n",
              "      <td>30.447144</td>\n",
              "      <td>30.104286</td>\n",
              "      <td>88102700.0</td>\n",
              "      <td>20.159719</td>\n",
              "    </tr>\n",
              "    <tr>\n",
              "      <th>2010-01-04</th>\n",
              "      <td>30.642857</td>\n",
              "      <td>30.340000</td>\n",
              "      <td>30.490000</td>\n",
              "      <td>30.572857</td>\n",
              "      <td>123432400.0</td>\n",
              "      <td>20.473503</td>\n",
              "    </tr>\n",
              "    <tr>\n",
              "      <th>2010-01-05</th>\n",
              "      <td>30.798571</td>\n",
              "      <td>30.464285</td>\n",
              "      <td>30.657143</td>\n",
              "      <td>30.625713</td>\n",
              "      <td>150476200.0</td>\n",
              "      <td>20.508902</td>\n",
              "    </tr>\n",
              "    <tr>\n",
              "      <th>2010-01-06</th>\n",
              "      <td>30.747143</td>\n",
              "      <td>30.107143</td>\n",
              "      <td>30.625713</td>\n",
              "      <td>30.138571</td>\n",
              "      <td>138040000.0</td>\n",
              "      <td>20.182680</td>\n",
              "    </tr>\n",
              "    <tr>\n",
              "      <th>2010-01-07</th>\n",
              "      <td>30.285715</td>\n",
              "      <td>29.864286</td>\n",
              "      <td>30.250000</td>\n",
              "      <td>30.082857</td>\n",
              "      <td>119282800.0</td>\n",
              "      <td>20.145369</td>\n",
              "    </tr>\n",
              "    <tr>\n",
              "      <th>...</th>\n",
              "      <td>...</td>\n",
              "      <td>...</td>\n",
              "      <td>...</td>\n",
              "      <td>...</td>\n",
              "      <td>...</td>\n",
              "      <td>...</td>\n",
              "    </tr>\n",
              "    <tr>\n",
              "      <th>2018-12-24</th>\n",
              "      <td>151.550003</td>\n",
              "      <td>146.589996</td>\n",
              "      <td>148.149994</td>\n",
              "      <td>146.830002</td>\n",
              "      <td>37169200.0</td>\n",
              "      <td>146.830002</td>\n",
              "    </tr>\n",
              "    <tr>\n",
              "      <th>2018-12-26</th>\n",
              "      <td>157.229996</td>\n",
              "      <td>146.720001</td>\n",
              "      <td>148.300003</td>\n",
              "      <td>157.169998</td>\n",
              "      <td>58582500.0</td>\n",
              "      <td>157.169998</td>\n",
              "    </tr>\n",
              "    <tr>\n",
              "      <th>2018-12-27</th>\n",
              "      <td>156.770004</td>\n",
              "      <td>150.070007</td>\n",
              "      <td>155.839996</td>\n",
              "      <td>156.149994</td>\n",
              "      <td>53117100.0</td>\n",
              "      <td>156.149994</td>\n",
              "    </tr>\n",
              "    <tr>\n",
              "      <th>2018-12-28</th>\n",
              "      <td>158.520004</td>\n",
              "      <td>154.550003</td>\n",
              "      <td>157.500000</td>\n",
              "      <td>156.229996</td>\n",
              "      <td>42291400.0</td>\n",
              "      <td>156.229996</td>\n",
              "    </tr>\n",
              "    <tr>\n",
              "      <th>2018-12-31</th>\n",
              "      <td>159.360001</td>\n",
              "      <td>156.479996</td>\n",
              "      <td>158.529999</td>\n",
              "      <td>157.740005</td>\n",
              "      <td>35003500.0</td>\n",
              "      <td>157.740005</td>\n",
              "    </tr>\n",
              "  </tbody>\n",
              "</table>\n",
              "<p>2265 rows × 6 columns</p>\n",
              "</div>"
            ],
            "text/plain": [
              "                  High         Low  ...       Volume   Adj Close\n",
              "Date                                ...                         \n",
              "2009-12-31   30.478571   30.080000  ...   88102700.0   20.159719\n",
              "2010-01-04   30.642857   30.340000  ...  123432400.0   20.473503\n",
              "2010-01-05   30.798571   30.464285  ...  150476200.0   20.508902\n",
              "2010-01-06   30.747143   30.107143  ...  138040000.0   20.182680\n",
              "2010-01-07   30.285715   29.864286  ...  119282800.0   20.145369\n",
              "...                ...         ...  ...          ...         ...\n",
              "2018-12-24  151.550003  146.589996  ...   37169200.0  146.830002\n",
              "2018-12-26  157.229996  146.720001  ...   58582500.0  157.169998\n",
              "2018-12-27  156.770004  150.070007  ...   53117100.0  156.149994\n",
              "2018-12-28  158.520004  154.550003  ...   42291400.0  156.229996\n",
              "2018-12-31  159.360001  156.479996  ...   35003500.0  157.740005\n",
              "\n",
              "[2265 rows x 6 columns]"
            ]
          },
          "metadata": {
            "tags": []
          },
          "execution_count": 180
        }
      ]
    },
    {
      "cell_type": "code",
      "metadata": {
        "colab": {
          "base_uri": "https://localhost:8080/"
        },
        "id": "r2EQML02UI3V",
        "outputId": "e71e7a0e-2af1-4f84-b600-1e1746748a97"
      },
      "source": [
        "df.index"
      ],
      "execution_count": null,
      "outputs": [
        {
          "output_type": "execute_result",
          "data": {
            "text/plain": [
              "DatetimeIndex(['2009-12-31', '2010-01-04', '2010-01-05', '2010-01-06',\n",
              "               '2010-01-07', '2010-01-08', '2010-01-11', '2010-01-12',\n",
              "               '2010-01-13', '2010-01-14',\n",
              "               ...\n",
              "               '2018-12-17', '2018-12-18', '2018-12-19', '2018-12-20',\n",
              "               '2018-12-21', '2018-12-24', '2018-12-26', '2018-12-27',\n",
              "               '2018-12-28', '2018-12-31'],\n",
              "              dtype='datetime64[ns]', name='Date', length=2265, freq=None)"
            ]
          },
          "metadata": {
            "tags": []
          },
          "execution_count": 181
        }
      ]
    },
    {
      "cell_type": "code",
      "metadata": {
        "id": "Gcu4LReTUzPL"
      },
      "source": [
        "def dateparser(str_dt):\r\n",
        "  return pd.datetime.strptime(str_dt, \"%Y-%m-%d\") # string 인자로 받아서 지정한 포맷으로 읽어준다."
      ],
      "execution_count": null,
      "outputs": []
    },
    {
      "cell_type": "code",
      "metadata": {
        "colab": {
          "base_uri": "https://localhost:8080/"
        },
        "id": "yROfkcFtVhiT",
        "outputId": "d5c0a162-61f7-4064-b11a-53bba6f1ec40"
      },
      "source": [
        "dateparser('2019-01-01')"
      ],
      "execution_count": null,
      "outputs": [
        {
          "output_type": "execute_result",
          "data": {
            "text/plain": [
              "datetime.datetime(2019, 1, 1, 0, 0)"
            ]
          },
          "metadata": {
            "tags": []
          },
          "execution_count": 183
        }
      ]
    },
    {
      "cell_type": "code",
      "metadata": {
        "id": "PCr_TuttUTWA"
      },
      "source": [
        "# date_parser 옵션\r\n",
        "df = pd.read_csv('/content/drive/MyDrive/Colab Notebooks/tacademy_timeseries/apple_stock.csv',\r\n",
        "                 index_col='Date',\r\n",
        "                 parse_dates=['Date'],\r\n",
        "                 date_parser=dateparser)"
      ],
      "execution_count": null,
      "outputs": []
    },
    {
      "cell_type": "code",
      "metadata": {
        "colab": {
          "base_uri": "https://localhost:8080/",
          "height": 450
        },
        "id": "KLIlpb_9VaUx",
        "outputId": "bf075ff3-facd-49b0-8254-153e36856916"
      },
      "source": [
        "df"
      ],
      "execution_count": null,
      "outputs": [
        {
          "output_type": "execute_result",
          "data": {
            "text/html": [
              "<div>\n",
              "<style scoped>\n",
              "    .dataframe tbody tr th:only-of-type {\n",
              "        vertical-align: middle;\n",
              "    }\n",
              "\n",
              "    .dataframe tbody tr th {\n",
              "        vertical-align: top;\n",
              "    }\n",
              "\n",
              "    .dataframe thead th {\n",
              "        text-align: right;\n",
              "    }\n",
              "</style>\n",
              "<table border=\"1\" class=\"dataframe\">\n",
              "  <thead>\n",
              "    <tr style=\"text-align: right;\">\n",
              "      <th></th>\n",
              "      <th>High</th>\n",
              "      <th>Low</th>\n",
              "      <th>Open</th>\n",
              "      <th>Close</th>\n",
              "      <th>Volume</th>\n",
              "      <th>Adj Close</th>\n",
              "    </tr>\n",
              "    <tr>\n",
              "      <th>Date</th>\n",
              "      <th></th>\n",
              "      <th></th>\n",
              "      <th></th>\n",
              "      <th></th>\n",
              "      <th></th>\n",
              "      <th></th>\n",
              "    </tr>\n",
              "  </thead>\n",
              "  <tbody>\n",
              "    <tr>\n",
              "      <th>2009-12-31</th>\n",
              "      <td>30.478571</td>\n",
              "      <td>30.080000</td>\n",
              "      <td>30.447144</td>\n",
              "      <td>30.104286</td>\n",
              "      <td>88102700.0</td>\n",
              "      <td>20.159719</td>\n",
              "    </tr>\n",
              "    <tr>\n",
              "      <th>2010-01-04</th>\n",
              "      <td>30.642857</td>\n",
              "      <td>30.340000</td>\n",
              "      <td>30.490000</td>\n",
              "      <td>30.572857</td>\n",
              "      <td>123432400.0</td>\n",
              "      <td>20.473503</td>\n",
              "    </tr>\n",
              "    <tr>\n",
              "      <th>2010-01-05</th>\n",
              "      <td>30.798571</td>\n",
              "      <td>30.464285</td>\n",
              "      <td>30.657143</td>\n",
              "      <td>30.625713</td>\n",
              "      <td>150476200.0</td>\n",
              "      <td>20.508902</td>\n",
              "    </tr>\n",
              "    <tr>\n",
              "      <th>2010-01-06</th>\n",
              "      <td>30.747143</td>\n",
              "      <td>30.107143</td>\n",
              "      <td>30.625713</td>\n",
              "      <td>30.138571</td>\n",
              "      <td>138040000.0</td>\n",
              "      <td>20.182680</td>\n",
              "    </tr>\n",
              "    <tr>\n",
              "      <th>2010-01-07</th>\n",
              "      <td>30.285715</td>\n",
              "      <td>29.864286</td>\n",
              "      <td>30.250000</td>\n",
              "      <td>30.082857</td>\n",
              "      <td>119282800.0</td>\n",
              "      <td>20.145369</td>\n",
              "    </tr>\n",
              "    <tr>\n",
              "      <th>...</th>\n",
              "      <td>...</td>\n",
              "      <td>...</td>\n",
              "      <td>...</td>\n",
              "      <td>...</td>\n",
              "      <td>...</td>\n",
              "      <td>...</td>\n",
              "    </tr>\n",
              "    <tr>\n",
              "      <th>2018-12-24</th>\n",
              "      <td>151.550003</td>\n",
              "      <td>146.589996</td>\n",
              "      <td>148.149994</td>\n",
              "      <td>146.830002</td>\n",
              "      <td>37169200.0</td>\n",
              "      <td>146.830002</td>\n",
              "    </tr>\n",
              "    <tr>\n",
              "      <th>2018-12-26</th>\n",
              "      <td>157.229996</td>\n",
              "      <td>146.720001</td>\n",
              "      <td>148.300003</td>\n",
              "      <td>157.169998</td>\n",
              "      <td>58582500.0</td>\n",
              "      <td>157.169998</td>\n",
              "    </tr>\n",
              "    <tr>\n",
              "      <th>2018-12-27</th>\n",
              "      <td>156.770004</td>\n",
              "      <td>150.070007</td>\n",
              "      <td>155.839996</td>\n",
              "      <td>156.149994</td>\n",
              "      <td>53117100.0</td>\n",
              "      <td>156.149994</td>\n",
              "    </tr>\n",
              "    <tr>\n",
              "      <th>2018-12-28</th>\n",
              "      <td>158.520004</td>\n",
              "      <td>154.550003</td>\n",
              "      <td>157.500000</td>\n",
              "      <td>156.229996</td>\n",
              "      <td>42291400.0</td>\n",
              "      <td>156.229996</td>\n",
              "    </tr>\n",
              "    <tr>\n",
              "      <th>2018-12-31</th>\n",
              "      <td>159.360001</td>\n",
              "      <td>156.479996</td>\n",
              "      <td>158.529999</td>\n",
              "      <td>157.740005</td>\n",
              "      <td>35003500.0</td>\n",
              "      <td>157.740005</td>\n",
              "    </tr>\n",
              "  </tbody>\n",
              "</table>\n",
              "<p>2265 rows × 6 columns</p>\n",
              "</div>"
            ],
            "text/plain": [
              "                  High         Low  ...       Volume   Adj Close\n",
              "Date                                ...                         \n",
              "2009-12-31   30.478571   30.080000  ...   88102700.0   20.159719\n",
              "2010-01-04   30.642857   30.340000  ...  123432400.0   20.473503\n",
              "2010-01-05   30.798571   30.464285  ...  150476200.0   20.508902\n",
              "2010-01-06   30.747143   30.107143  ...  138040000.0   20.182680\n",
              "2010-01-07   30.285715   29.864286  ...  119282800.0   20.145369\n",
              "...                ...         ...  ...          ...         ...\n",
              "2018-12-24  151.550003  146.589996  ...   37169200.0  146.830002\n",
              "2018-12-26  157.229996  146.720001  ...   58582500.0  157.169998\n",
              "2018-12-27  156.770004  150.070007  ...   53117100.0  156.149994\n",
              "2018-12-28  158.520004  154.550003  ...   42291400.0  156.229996\n",
              "2018-12-31  159.360001  156.479996  ...   35003500.0  157.740005\n",
              "\n",
              "[2265 rows x 6 columns]"
            ]
          },
          "metadata": {
            "tags": []
          },
          "execution_count": 185
        }
      ]
    },
    {
      "cell_type": "code",
      "metadata": {
        "colab": {
          "base_uri": "https://localhost:8080/",
          "height": 390
        },
        "id": "FegO-Q08VfRN",
        "outputId": "d10d0036-bc49-4f8b-e0f9-d2df85ce65d2"
      },
      "source": [
        "# rolling().mean() : moving average와 같은 트렌드를 구하기 위해서 많이 사용되는 함수이다.\r\n",
        "df.rolling(7).mean().head(10)"
      ],
      "execution_count": null,
      "outputs": [
        {
          "output_type": "execute_result",
          "data": {
            "text/html": [
              "<div>\n",
              "<style scoped>\n",
              "    .dataframe tbody tr th:only-of-type {\n",
              "        vertical-align: middle;\n",
              "    }\n",
              "\n",
              "    .dataframe tbody tr th {\n",
              "        vertical-align: top;\n",
              "    }\n",
              "\n",
              "    .dataframe thead th {\n",
              "        text-align: right;\n",
              "    }\n",
              "</style>\n",
              "<table border=\"1\" class=\"dataframe\">\n",
              "  <thead>\n",
              "    <tr style=\"text-align: right;\">\n",
              "      <th></th>\n",
              "      <th>High</th>\n",
              "      <th>Low</th>\n",
              "      <th>Open</th>\n",
              "      <th>Close</th>\n",
              "      <th>Volume</th>\n",
              "      <th>Adj Close</th>\n",
              "    </tr>\n",
              "    <tr>\n",
              "      <th>Date</th>\n",
              "      <th></th>\n",
              "      <th></th>\n",
              "      <th></th>\n",
              "      <th></th>\n",
              "      <th></th>\n",
              "      <th></th>\n",
              "    </tr>\n",
              "  </thead>\n",
              "  <tbody>\n",
              "    <tr>\n",
              "      <th>2009-12-31</th>\n",
              "      <td>NaN</td>\n",
              "      <td>NaN</td>\n",
              "      <td>NaN</td>\n",
              "      <td>NaN</td>\n",
              "      <td>NaN</td>\n",
              "      <td>NaN</td>\n",
              "    </tr>\n",
              "    <tr>\n",
              "      <th>2010-01-04</th>\n",
              "      <td>NaN</td>\n",
              "      <td>NaN</td>\n",
              "      <td>NaN</td>\n",
              "      <td>NaN</td>\n",
              "      <td>NaN</td>\n",
              "      <td>NaN</td>\n",
              "    </tr>\n",
              "    <tr>\n",
              "      <th>2010-01-05</th>\n",
              "      <td>NaN</td>\n",
              "      <td>NaN</td>\n",
              "      <td>NaN</td>\n",
              "      <td>NaN</td>\n",
              "      <td>NaN</td>\n",
              "      <td>NaN</td>\n",
              "    </tr>\n",
              "    <tr>\n",
              "      <th>2010-01-06</th>\n",
              "      <td>NaN</td>\n",
              "      <td>NaN</td>\n",
              "      <td>NaN</td>\n",
              "      <td>NaN</td>\n",
              "      <td>NaN</td>\n",
              "      <td>NaN</td>\n",
              "    </tr>\n",
              "    <tr>\n",
              "      <th>2010-01-07</th>\n",
              "      <td>NaN</td>\n",
              "      <td>NaN</td>\n",
              "      <td>NaN</td>\n",
              "      <td>NaN</td>\n",
              "      <td>NaN</td>\n",
              "      <td>NaN</td>\n",
              "    </tr>\n",
              "    <tr>\n",
              "      <th>2010-01-08</th>\n",
              "      <td>NaN</td>\n",
              "      <td>NaN</td>\n",
              "      <td>NaN</td>\n",
              "      <td>NaN</td>\n",
              "      <td>NaN</td>\n",
              "      <td>NaN</td>\n",
              "    </tr>\n",
              "    <tr>\n",
              "      <th>2010-01-11</th>\n",
              "      <td>30.523878</td>\n",
              "      <td>30.071429</td>\n",
              "      <td>30.416122</td>\n",
              "      <td>30.260408</td>\n",
              "      <td>120970600.0</td>\n",
              "      <td>20.264270</td>\n",
              "    </tr>\n",
              "    <tr>\n",
              "      <th>2010-01-12</th>\n",
              "      <td>30.450816</td>\n",
              "      <td>29.986939</td>\n",
              "      <td>30.335714</td>\n",
              "      <td>30.198980</td>\n",
              "      <td>129615200.0</td>\n",
              "      <td>20.223133</td>\n",
              "    </tr>\n",
              "    <tr>\n",
              "      <th>2010-01-13</th>\n",
              "      <td>30.377959</td>\n",
              "      <td>29.817959</td>\n",
              "      <td>30.222245</td>\n",
              "      <td>30.130408</td>\n",
              "      <td>133621000.0</td>\n",
              "      <td>20.177213</td>\n",
              "    </tr>\n",
              "    <tr>\n",
              "      <th>2010-01-14</th>\n",
              "      <td>30.273265</td>\n",
              "      <td>29.731633</td>\n",
              "      <td>30.130612</td>\n",
              "      <td>30.029388</td>\n",
              "      <td>127584900.0</td>\n",
              "      <td>20.109564</td>\n",
              "    </tr>\n",
              "  </tbody>\n",
              "</table>\n",
              "</div>"
            ],
            "text/plain": [
              "                 High        Low       Open      Close       Volume  Adj Close\n",
              "Date                                                                          \n",
              "2009-12-31        NaN        NaN        NaN        NaN          NaN        NaN\n",
              "2010-01-04        NaN        NaN        NaN        NaN          NaN        NaN\n",
              "2010-01-05        NaN        NaN        NaN        NaN          NaN        NaN\n",
              "2010-01-06        NaN        NaN        NaN        NaN          NaN        NaN\n",
              "2010-01-07        NaN        NaN        NaN        NaN          NaN        NaN\n",
              "2010-01-08        NaN        NaN        NaN        NaN          NaN        NaN\n",
              "2010-01-11  30.523878  30.071429  30.416122  30.260408  120970600.0  20.264270\n",
              "2010-01-12  30.450816  29.986939  30.335714  30.198980  129615200.0  20.223133\n",
              "2010-01-13  30.377959  29.817959  30.222245  30.130408  133621000.0  20.177213\n",
              "2010-01-14  30.273265  29.731633  30.130612  30.029388  127584900.0  20.109564"
            ]
          },
          "metadata": {
            "tags": []
          },
          "execution_count": 186
        }
      ]
    },
    {
      "cell_type": "code",
      "metadata": {
        "colab": {
          "base_uri": "https://localhost:8080/",
          "height": 295
        },
        "id": "a5FIlMXvVvZ8",
        "outputId": "08e0dd7f-41a6-4827-8202-e0b34031eefa"
      },
      "source": [
        "# 주식의 마감가격(종가)의 트렌드를 보고싶다.\r\n",
        "df['2018']['Close'].plot() # 종가 원래 데이터\r\n",
        "df['2018'].rolling(window=7).mean()['Close'].plot() # 종가의 트렌드"
      ],
      "execution_count": null,
      "outputs": [
        {
          "output_type": "execute_result",
          "data": {
            "text/plain": [
              "<matplotlib.axes._subplots.AxesSubplot at 0x7fb53d4bde90>"
            ]
          },
          "metadata": {
            "tags": []
          },
          "execution_count": 187
        },
        {
          "output_type": "display_data",
          "data": {
            "image/png": "[encoded data removed]",
            "text/plain": [
              "<Figure size 432x288 with 1 Axes>"
            ]
          },
          "metadata": {
            "tags": [],
            "needs_background": "light"
          }
        }
      ]
    },
    {
      "cell_type": "code",
      "metadata": {
        "id": "79dcoGIZW3UD"
      },
      "source": [
        "# 30일 평균 종가 컬럼 만들기\r\n",
        "df['Close : 30 Day Mean'] = df['Close'].rolling(30).mean()"
      ],
      "execution_count": null,
      "outputs": []
    },
    {
      "cell_type": "code",
      "metadata": {
        "colab": {
          "base_uri": "https://localhost:8080/",
          "height": 343
        },
        "id": "LXLZA9HIXypA",
        "outputId": "3a934965-de62-47fe-ff5b-ac2bc533c296"
      },
      "source": [
        "df[['Close', 'Close : 30 Day Mean']].plot(figsize=(15,7))"
      ],
      "execution_count": null,
      "outputs": [
        {
          "output_type": "execute_result",
          "data": {
            "text/plain": [
              "<matplotlib.axes._subplots.AxesSubplot at 0x7fb53d42dd50>"
            ]
          },
          "metadata": {
            "tags": []
          },
          "execution_count": 189
        },
        {
          "output_type": "display_data",
          "data": {
            "image/png": "[encoded data removed]",
            "text/plain": [
              "<Figure size 1080x504 with 1 Axes>"
            ]
          },
          "metadata": {
            "tags": [],
            "needs_background": "light"
          }
        }
      ]
    },
    {
      "cell_type": "code",
      "metadata": {
        "colab": {
          "base_uri": "https://localhost:8080/",
          "height": 343
        },
        "id": "RbD-9Nh-h_kS",
        "outputId": "a5d661a0-0887-4632-cccd-976b65353d36"
      },
      "source": [
        "# expanding 해가면서 누적된 close 데이터에 대한 누적 평균을 plotting 해본 것\r\n",
        "df['Close'].expanding(min_periods=1).mean().plot(figsize=(15,7))"
      ],
      "execution_count": null,
      "outputs": [
        {
          "output_type": "execute_result",
          "data": {
            "text/plain": [
              "<matplotlib.axes._subplots.AxesSubplot at 0x7fb53d349410>"
            ]
          },
          "metadata": {
            "tags": []
          },
          "execution_count": 190
        },
        {
          "output_type": "display_data",
          "data": {
            "image/png": "[encoded data removed]",
            "text/plain": [
              "<Figure size 1080x504 with 1 Axes>"
            ]
          },
          "metadata": {
            "tags": [],
            "needs_background": "light"
          }
        }
      ]
    },
    {
      "cell_type": "markdown",
      "metadata": {
        "id": "eFeQIr6tslQt"
      },
      "source": [
        "# 볼린저 밴드\r\n",
        "\r\n",
        "#### df['Close'] std 2 -2 20일치 MA (20일단위의 평균 트렌드 값)\r\n",
        "#### 종가에 대한 20일치 rolling mean을 구하고\r\n",
        "#### 종가에 대해서 위아래로 std을 구해서 2를 곱해서 더해준다.\r\n",
        "---\r\n",
        "#### 전체 흐름\r\n",
        "df['Close: 20Day Mean'] = df['Close'].rolling...\r\n",
        "\r\n",
        "df['Upper'] = df['Close: 20Day Mean'] + 2 std Close\r\n",
        "\r\n",
        "df['Lower'] = df['Close: 20Day Mean'] - 2 std Close\r\n",
        "\r\n",
        "df[['Close', 'Close: 20Day Mean', 'Upper', 'Lower']].plot()\r\n",
        "\r\n",
        "---\r\n",
        "\r\n",
        "20일치의 트렌드를 보고\r\n",
        "\r\n",
        "그 트렌드가 2 std 위에 있으면 사야할 때고\r\n",
        "\r\n",
        "그 트렌드가 2 std 아래에 있으면 팔아야할 때이다"
      ]
    },
    {
      "cell_type": "code",
      "metadata": {
        "colab": {
          "base_uri": "https://localhost:8080/"
        },
        "id": "CK3olJUGiKX1",
        "outputId": "84bff60d-ddc0-4e4e-94ad-206a750ab57c"
      },
      "source": [
        "df['Close: 20Day Mean'] = df['Close'].rolling(window=20).mean()\r\n",
        "print(df['Close: 20Day Mean'])"
      ],
      "execution_count": null,
      "outputs": [
        {
          "output_type": "stream",
          "text": [
            "Date\n",
            "2009-12-31           NaN\n",
            "2010-01-04           NaN\n",
            "2010-01-05           NaN\n",
            "2010-01-06           NaN\n",
            "2010-01-07           NaN\n",
            "                 ...    \n",
            "2018-12-24    169.085002\n",
            "2018-12-26    168.212502\n",
            "2018-12-27    167.308002\n",
            "2018-12-28    166.072501\n",
            "2018-12-31    164.982001\n",
            "Name: Close: 20Day Mean, Length: 2265, dtype: float64\n"
          ],
          "name": "stdout"
        }
      ]
    },
    {
      "cell_type": "code",
      "metadata": {
        "colab": {
          "base_uri": "https://localhost:8080/"
        },
        "id": "s5AlZD1iXtEF",
        "outputId": "4ca87ed4-e564-4167-b00b-e4f34c4b18b4"
      },
      "source": [
        "df['Upper'] = df['Close: 20Day Mean'] + 2*df['Close'].rolling(20).std()\r\n",
        "print(df['Upper'])"
      ],
      "execution_count": null,
      "outputs": [
        {
          "output_type": "stream",
          "text": [
            "Date\n",
            "2009-12-31           NaN\n",
            "2010-01-04           NaN\n",
            "2010-01-05           NaN\n",
            "2010-01-06           NaN\n",
            "2010-01-07           NaN\n",
            "                 ...    \n",
            "2018-12-24    188.750620\n",
            "2018-12-26    188.385985\n",
            "2018-12-27    187.960084\n",
            "2018-12-28    186.241665\n",
            "2018-12-31    184.428450\n",
            "Name: Upper, Length: 2265, dtype: float64\n"
          ],
          "name": "stdout"
        }
      ]
    },
    {
      "cell_type": "code",
      "metadata": {
        "colab": {
          "base_uri": "https://localhost:8080/"
        },
        "id": "1uapgeGDZEfD",
        "outputId": "0fed0516-a5fa-4a7d-8f10-502427f2331a"
      },
      "source": [
        "df['Lower'] = df['Close: 20Day Mean'] - 2*df['Close'].rolling(20).std()\r\n",
        "print(df['Lower'])"
      ],
      "execution_count": null,
      "outputs": [
        {
          "output_type": "stream",
          "text": [
            "Date\n",
            "2009-12-31           NaN\n",
            "2010-01-04           NaN\n",
            "2010-01-05           NaN\n",
            "2010-01-06           NaN\n",
            "2010-01-07           NaN\n",
            "                 ...    \n",
            "2018-12-24    149.419384\n",
            "2018-12-26    148.039020\n",
            "2018-12-27    146.655919\n",
            "2018-12-28    145.903338\n",
            "2018-12-31    145.535553\n",
            "Name: Lower, Length: 2265, dtype: float64\n"
          ],
          "name": "stdout"
        }
      ]
    },
    {
      "cell_type": "code",
      "metadata": {
        "colab": {
          "base_uri": "https://localhost:8080/",
          "height": 359
        },
        "id": "NKXxBeecZJEg",
        "outputId": "73ef8d11-e04c-4f68-96bc-9fd993459a45"
      },
      "source": [
        "df['2018':][['Close','Close: 20Day Mean','Upper','Lower']].plot(figsize=(20,10))"
      ],
      "execution_count": null,
      "outputs": [
        {
          "output_type": "execute_result",
          "data": {
            "text/plain": [
              "<matplotlib.axes._subplots.AxesSubplot at 0x7fb53d340710>"
            ]
          },
          "metadata": {
            "tags": []
          },
          "execution_count": 194
        },
        {
          "output_type": "display_data",
          "data": {
            "image/png": "[encoded data removed]",
            "text/plain": [
              "<Figure size 1440x720 with 1 Axes>"
            ]
          },
          "metadata": {
            "tags": [],
            "needs_background": "light"
          }
        }
      ]
    },
    {
      "cell_type": "markdown",
      "metadata": {
        "id": "O-hz8fNygKvE"
      },
      "source": [
        "# Timezone"
      ]
    },
    {
      "cell_type": "code",
      "metadata": {
        "id": "G5XCh61SZfas",
        "colab": {
          "base_uri": "https://localhost:8080/"
        },
        "outputId": "b3d81db3-2648-4329-b731-d877e2cd6981"
      },
      "source": [
        "from datetime import datetime\r\n",
        "from datetime import timezone\r\n",
        "timezone.utc"
      ],
      "execution_count": null,
      "outputs": [
        {
          "output_type": "execute_result",
          "data": {
            "text/plain": [
              "datetime.timezone.utc"
            ]
          },
          "metadata": {
            "tags": []
          },
          "execution_count": 195
        }
      ]
    },
    {
      "cell_type": "code",
      "metadata": {
        "id": "Hnz_3aztgJ55",
        "colab": {
          "base_uri": "https://localhost:8080/"
        },
        "outputId": "c6e01439-06aa-40d4-8672-85174f24461f"
      },
      "source": [
        "datetime(2019,1,1) # timezone unawared datetime : 타임존이 어딘지 모른다."
      ],
      "execution_count": null,
      "outputs": [
        {
          "output_type": "execute_result",
          "data": {
            "text/plain": [
              "datetime.datetime(2019, 1, 1, 0, 0)"
            ]
          },
          "metadata": {
            "tags": []
          },
          "execution_count": 196
        }
      ]
    },
    {
      "cell_type": "code",
      "metadata": {
        "colab": {
          "base_uri": "https://localhost:8080/"
        },
        "id": "3vx4U-FSoC3g",
        "outputId": "a2b7e2a4-b473-487d-af37-d1e5669dba9e"
      },
      "source": [
        "datetime(2019,1,1,tzinfo=timezone.utc) # timezone awared datetime : 타임존 지정 >> utc시간 명시"
      ],
      "execution_count": null,
      "outputs": [
        {
          "output_type": "execute_result",
          "data": {
            "text/plain": [
              "datetime.datetime(2019, 1, 1, 0, 0, tzinfo=datetime.timezone.utc)"
            ]
          },
          "metadata": {
            "tags": []
          },
          "execution_count": 197
        }
      ]
    },
    {
      "cell_type": "code",
      "metadata": {
        "id": "haXV9zOzoQdg"
      },
      "source": [
        "import pytz"
      ],
      "execution_count": null,
      "outputs": []
    },
    {
      "cell_type": "code",
      "metadata": {
        "colab": {
          "base_uri": "https://localhost:8080/"
        },
        "id": "KTTpm4nKosiP",
        "outputId": "639c5ac8-bd5c-4c43-f61a-009a8f06005d"
      },
      "source": [
        "pytz.utc"
      ],
      "execution_count": null,
      "outputs": [
        {
          "output_type": "execute_result",
          "data": {
            "text/plain": [
              "<UTC>"
            ]
          },
          "metadata": {
            "tags": []
          },
          "execution_count": 199
        }
      ]
    },
    {
      "cell_type": "code",
      "metadata": {
        "colab": {
          "base_uri": "https://localhost:8080/"
        },
        "id": "fv67HtJ4o1yS",
        "outputId": "34e45a9b-2c42-49f0-b6d3-4e273bd1c7fa"
      },
      "source": [
        "pytz.timezone('Asia/Seoul')"
      ],
      "execution_count": null,
      "outputs": [
        {
          "output_type": "execute_result",
          "data": {
            "text/plain": [
              "<DstTzInfo 'Asia/Seoul' LMT+8:28:00 STD>"
            ]
          },
          "metadata": {
            "tags": []
          },
          "execution_count": 200
        }
      ]
    },
    {
      "cell_type": "code",
      "metadata": {
        "colab": {
          "base_uri": "https://localhost:8080/"
        },
        "id": "1DGLz870pLFt",
        "outputId": "9fba4650-3913-4b1c-ec31-12b1bea04eec"
      },
      "source": [
        "datetime(2019,1,1,tzinfo=timezone.utc) == \\\r\n",
        "pytz.UTC.localize(datetime(2019,1,1))\r\n",
        "# \\ : 줄바꿈"
      ],
      "execution_count": null,
      "outputs": [
        {
          "output_type": "execute_result",
          "data": {
            "text/plain": [
              "True"
            ]
          },
          "metadata": {
            "tags": []
          },
          "execution_count": 201
        }
      ]
    },
    {
      "cell_type": "code",
      "metadata": {
        "colab": {
          "base_uri": "https://localhost:8080/"
        },
        "id": "cEtrZBGipnyG",
        "outputId": "93a7175d-ef6e-461f-97c2-bf2c2cfaba2c"
      },
      "source": [
        "KST = pytz.timezone('Asia/Seoul')\r\n",
        "KST.localize(datetime(2019,1,1))"
      ],
      "execution_count": null,
      "outputs": [
        {
          "output_type": "execute_result",
          "data": {
            "text/plain": [
              "datetime.datetime(2019, 1, 1, 0, 0, tzinfo=<DstTzInfo 'Asia/Seoul' KST+9:00:00 STD>)"
            ]
          },
          "metadata": {
            "tags": []
          },
          "execution_count": 202
        }
      ]
    },
    {
      "cell_type": "code",
      "metadata": {
        "colab": {
          "base_uri": "https://localhost:8080/"
        },
        "id": "MwDIra7ZqBXz",
        "outputId": "df9c3b18-f234-4f5f-a790-766e0c7b81ae"
      },
      "source": [
        "datetime(2019,1,1,tzinfo=timezone.utc) == \\\r\n",
        "KST.localize(datetime(2019,1,1))"
      ],
      "execution_count": null,
      "outputs": [
        {
          "output_type": "execute_result",
          "data": {
            "text/plain": [
              "False"
            ]
          },
          "metadata": {
            "tags": []
          },
          "execution_count": 203
        }
      ]
    },
    {
      "cell_type": "code",
      "metadata": {
        "id": "QkNORitazXGI"
      },
      "source": [
        "mydate = datetime(2019,1,1)"
      ],
      "execution_count": null,
      "outputs": []
    },
    {
      "cell_type": "code",
      "metadata": {
        "colab": {
          "base_uri": "https://localhost:8080/"
        },
        "id": "dckrsqjgzx3B",
        "outputId": "0bf2f41d-8d33-4f5a-89d4-c826c9d8b593"
      },
      "source": [
        "mydate.replace(year=2018)"
      ],
      "execution_count": null,
      "outputs": [
        {
          "output_type": "execute_result",
          "data": {
            "text/plain": [
              "datetime.datetime(2018, 1, 1, 0, 0)"
            ]
          },
          "metadata": {
            "tags": []
          },
          "execution_count": 205
        }
      ]
    },
    {
      "cell_type": "code",
      "metadata": {
        "colab": {
          "base_uri": "https://localhost:8080/"
        },
        "id": "dKyImvLZz0v_",
        "outputId": "8926959b-d3da-40f9-cfc4-841d714df453"
      },
      "source": [
        "# 어떤 시간에 대해서 타임존을 설정할 때는\r\n",
        "# replace를 사용하지 말고\r\n",
        "# 위에서 보이는 것처럼 timezone에다가 localize를 한 다음에\r\n",
        "# datetime 객체를 넘겨줘서 return을 받아야지 정확하게 계산이 된다.\r\n",
        "mydate.replace(tzinfo=KST) # 이렇게 replace를 쓰면 아래 결과처럼 8:28:00과 같이 부정확하게 뜬다."
      ],
      "execution_count": null,
      "outputs": [
        {
          "output_type": "execute_result",
          "data": {
            "text/plain": [
              "datetime.datetime(2019, 1, 1, 0, 0, tzinfo=<DstTzInfo 'Asia/Seoul' LMT+8:28:00 STD>)"
            ]
          },
          "metadata": {
            "tags": []
          },
          "execution_count": 206
        }
      ]
    },
    {
      "cell_type": "code",
      "metadata": {
        "id": "VU-SpLqZQxq8"
      },
      "source": [
        "mydate_kst = KST.localize(mydate)"
      ],
      "execution_count": null,
      "outputs": []
    },
    {
      "cell_type": "code",
      "metadata": {
        "colab": {
          "base_uri": "https://localhost:8080/"
        },
        "id": "jfaw9h0SRZI4",
        "outputId": "eca43e56-4d22-45e5-9592-5d03bc7155c3"
      },
      "source": [
        "mydate_kst"
      ],
      "execution_count": null,
      "outputs": [
        {
          "output_type": "execute_result",
          "data": {
            "text/plain": [
              "datetime.datetime(2019, 1, 1, 0, 0, tzinfo=<DstTzInfo 'Asia/Seoul' KST+9:00:00 STD>)"
            ]
          },
          "metadata": {
            "tags": []
          },
          "execution_count": 208
        }
      ]
    },
    {
      "cell_type": "code",
      "metadata": {
        "colab": {
          "base_uri": "https://localhost:8080/"
        },
        "id": "RQlK1e32Rakm",
        "outputId": "4465cfaa-7d57-420b-bd39-192e709478f6"
      },
      "source": [
        "mydate_kst.astimezone(pytz.utc)"
      ],
      "execution_count": null,
      "outputs": [
        {
          "output_type": "execute_result",
          "data": {
            "text/plain": [
              "datetime.datetime(2018, 12, 31, 15, 0, tzinfo=<UTC>)"
            ]
          },
          "metadata": {
            "tags": []
          },
          "execution_count": 209
        }
      ]
    },
    {
      "cell_type": "code",
      "metadata": {
        "colab": {
          "base_uri": "https://localhost:8080/"
        },
        "id": "GOtfN45aRuJW",
        "outputId": "5287aa01-966d-4c9f-98f9-fbc7599f97f4"
      },
      "source": [
        "mydate_kst.astimezone(pytz.utc) == mydate_kst # 같은 시간임을 알 수 있다."
      ],
      "execution_count": null,
      "outputs": [
        {
          "output_type": "execute_result",
          "data": {
            "text/plain": [
              "True"
            ]
          },
          "metadata": {
            "tags": []
          },
          "execution_count": 210
        }
      ]
    },
    {
      "cell_type": "code",
      "metadata": {
        "colab": {
          "base_uri": "https://localhost:8080/",
          "height": 35
        },
        "id": "Oa_rb7KmR0mJ",
        "outputId": "aee6076e-ee24-436e-9710-192c28011f7b"
      },
      "source": [
        "mydate_kst.strftime(\"%Y-%m-%d %H:%M:%S%Z\") # strftime : 시간 저장할 때 사용"
      ],
      "execution_count": null,
      "outputs": [
        {
          "output_type": "execute_result",
          "data": {
            "application/vnd.google.colaboratory.intrinsic+json": {
              "type": "string"
            },
            "text/plain": [
              "'2019-01-01 00:00:00KST'"
            ]
          },
          "metadata": {
            "tags": []
          },
          "execution_count": 211
        }
      ]
    },
    {
      "cell_type": "code",
      "metadata": {
        "colab": {
          "base_uri": "https://localhost:8080/",
          "height": 35
        },
        "id": "SN2Urc9WVyAa",
        "outputId": "8408b473-b8c2-433c-9844-c566b8922cad"
      },
      "source": [
        "mydate_kst.astimezone(pytz.utc).strftime(\"%Y-%m-%d %H:%M:%S%Z\") # string으로 비교해도 다르게 나오지만 같은 시간이다."
      ],
      "execution_count": null,
      "outputs": [
        {
          "output_type": "execute_result",
          "data": {
            "application/vnd.google.colaboratory.intrinsic+json": {
              "type": "string"
            },
            "text/plain": [
              "'2018-12-31 15:00:00UTC'"
            ]
          },
          "metadata": {
            "tags": []
          },
          "execution_count": 212
        }
      ]
    },
    {
      "cell_type": "code",
      "metadata": {
        "id": "0yoH7Z0SV3As",
        "colab": {
          "base_uri": "https://localhost:8080/"
        },
        "outputId": "de95364a-77e6-49c7-b8d5-934e01bba8f8"
      },
      "source": [
        "datetime.today() # 현재시각"
      ],
      "execution_count": null,
      "outputs": [
        {
          "output_type": "execute_result",
          "data": {
            "text/plain": [
              "datetime.datetime(2021, 2, 24, 5, 44, 39, 710422)"
            ]
          },
          "metadata": {
            "tags": []
          },
          "execution_count": 213
        }
      ]
    },
    {
      "cell_type": "code",
      "metadata": {
        "colab": {
          "base_uri": "https://localhost:8080/"
        },
        "id": "56ZdPJ30kWuG",
        "outputId": "b27bc0e8-abac-477a-a200-89380d5c852e"
      },
      "source": [
        "datetime.utcnow().astimezone(KST) # 전세계 어디에서든 똑같은 시간이 나오는 코드"
      ],
      "execution_count": null,
      "outputs": [
        {
          "output_type": "execute_result",
          "data": {
            "text/plain": [
              "datetime.datetime(2021, 2, 24, 14, 47, 25, 712730, tzinfo=<DstTzInfo 'Asia/Seoul' KST+9:00:00 STD>)"
            ]
          },
          "metadata": {
            "tags": []
          },
          "execution_count": 214
        }
      ]
    },
    {
      "cell_type": "code",
      "metadata": {
        "id": "RrMGczrZk_HG"
      },
      "source": [
        "today = datetime.today()"
      ],
      "execution_count": null,
      "outputs": []
    },
    {
      "cell_type": "code",
      "metadata": {
        "colab": {
          "base_uri": "https://localhost:8080/"
        },
        "id": "pzTEuXXblObH",
        "outputId": "69122793-2ab2-4af6-80bb-04623fe6a6ed"
      },
      "source": [
        "today.weekday() # 오늘의 요일 : 월요일이 0, 일요일이 6이다."
      ],
      "execution_count": null,
      "outputs": [
        {
          "output_type": "execute_result",
          "data": {
            "text/plain": [
              "2"
            ]
          },
          "metadata": {
            "tags": []
          },
          "execution_count": 216
        }
      ]
    },
    {
      "cell_type": "code",
      "metadata": {
        "colab": {
          "base_uri": "https://localhost:8080/"
        },
        "id": "d-yzq-BylPo5",
        "outputId": "26466bf6-8672-467f-acf2-9e7d7e73d0ed"
      },
      "source": [
        "datetime(2019,1,23).weekday()"
      ],
      "execution_count": null,
      "outputs": [
        {
          "output_type": "execute_result",
          "data": {
            "text/plain": [
              "2"
            ]
          },
          "metadata": {
            "tags": []
          },
          "execution_count": 218
        }
      ]
    },
    {
      "cell_type": "code",
      "metadata": {
        "id": "4I68u8DklfEp"
      },
      "source": [
        "# 문제 : 가장 최근의 금요일을 구현하라\r\n",
        "def last_friday():\r\n",
        "  today = KST.localize(datetime.today()) # 오늘 설정\r\n",
        "  offset = 4 - today.weekday() % 4\r\n",
        "  aweekago = today - timedelta(weeks=1)\r\n",
        "  # aweekago = today.replace(day=today.day - 7)\r\n",
        "  last_friday = aweekago + timedelta(days=offset)\r\n",
        "  # last_friday = aweekago.replace(day=aweekago.day+offset)\r\n",
        "  return last_friday"
      ],
      "execution_count": null,
      "outputs": []
    },
    {
      "cell_type": "code",
      "metadata": {
        "colab": {
          "base_uri": "https://localhost:8080/"
        },
        "id": "xzgkaRfDmWbr",
        "outputId": "35b5962b-f41e-4b93-d4dc-ab480b618b6b"
      },
      "source": [
        "last_friday()"
      ],
      "execution_count": null,
      "outputs": [
        {
          "output_type": "execute_result",
          "data": {
            "text/plain": [
              "datetime.datetime(2021, 2, 19, 6, 0, 31, 735813, tzinfo=<DstTzInfo 'Asia/Seoul' KST+9:00:00 STD>)"
            ]
          },
          "metadata": {
            "tags": []
          },
          "execution_count": 228
        }
      ]
    },
    {
      "cell_type": "code",
      "metadata": {
        "id": "QOFTpJjQmX2A"
      },
      "source": [
        "# 두 날짜와 시간 사이의 차이를 계산할 때 사용\r\n",
        "from datetime import timedelta"
      ],
      "execution_count": null,
      "outputs": []
    },
    {
      "cell_type": "code",
      "metadata": {
        "colab": {
          "base_uri": "https://localhost:8080/"
        },
        "id": "M5ur1If_mooU",
        "outputId": "8747759e-74aa-4218-ba18-087eb4575725"
      },
      "source": [
        "# 특히 datetime.datetime 객체에서 datetime.datetime 객체를 빼면\r\n",
        "# datetime.timedelta 객체가 나온다.\r\n",
        "pytz.utc.localize(mydate) - KST.localize(mydate)"
      ],
      "execution_count": null,
      "outputs": [
        {
          "output_type": "execute_result",
          "data": {
            "text/plain": [
              "datetime.timedelta(seconds=32400)"
            ]
          },
          "metadata": {
            "tags": []
          },
          "execution_count": 225
        }
      ]
    },
    {
      "cell_type": "code",
      "metadata": {
        "colab": {
          "base_uri": "https://localhost:8080/"
        },
        "id": "XAvD2q0rmrcI",
        "outputId": "9ec18506-d92f-4f5b-faa5-0ce8f0ba1625"
      },
      "source": [
        "# 즉, datetime.datetime 객체에서\r\n",
        "# datetime.timedelta를 빼면 이전 날짜와 시간을 구하고,\r\n",
        "# 더하면 이후 날짜와 시간을 구합니다.\r\n",
        "pytz.utc.localize(mydate) + timedelta(seconds=32400)"
      ],
      "execution_count": null,
      "outputs": [
        {
          "output_type": "execute_result",
          "data": {
            "text/plain": [
              "datetime.datetime(2019, 1, 1, 9, 0, tzinfo=<UTC>)"
            ]
          },
          "metadata": {
            "tags": []
          },
          "execution_count": 226
        }
      ]
    },
    {
      "cell_type": "markdown",
      "metadata": {
        "id": "JmWqPdlpulN0"
      },
      "source": [
        "# 시계열 데이터 시각화"
      ]
    },
    {
      "cell_type": "code",
      "metadata": {
        "id": "SdaxuoFJvF6w"
      },
      "source": [
        "import pandas as pd\r\n",
        "import matplotlib.pyplot as plt\r\n",
        "%matplotlib inline"
      ],
      "execution_count": null,
      "outputs": []
    },
    {
      "cell_type": "code",
      "metadata": {
        "id": "deHjdFT0m-r1"
      },
      "source": [
        "df_apple = \\\r\n",
        "pd.read_csv('/content/drive/MyDrive/Colab Notebooks/tacademy_timeseries/apple_stock.csv',\r\n",
        "            index_col='Date',\r\n",
        "            parse_dates=True)"
      ],
      "execution_count": null,
      "outputs": []
    },
    {
      "cell_type": "code",
      "metadata": {
        "colab": {
          "base_uri": "https://localhost:8080/",
          "height": 450
        },
        "id": "VWTXeHQXux9T",
        "outputId": "a1fe3413-7379-4478-a413-3f60b945db2b"
      },
      "source": [
        "df_apple"
      ],
      "execution_count": null,
      "outputs": [
        {
          "output_type": "execute_result",
          "data": {
            "text/html": [
              "<div>\n",
              "<style scoped>\n",
              "    .dataframe tbody tr th:only-of-type {\n",
              "        vertical-align: middle;\n",
              "    }\n",
              "\n",
              "    .dataframe tbody tr th {\n",
              "        vertical-align: top;\n",
              "    }\n",
              "\n",
              "    .dataframe thead th {\n",
              "        text-align: right;\n",
              "    }\n",
              "</style>\n",
              "<table border=\"1\" class=\"dataframe\">\n",
              "  <thead>\n",
              "    <tr style=\"text-align: right;\">\n",
              "      <th></th>\n",
              "      <th>High</th>\n",
              "      <th>Low</th>\n",
              "      <th>Open</th>\n",
              "      <th>Close</th>\n",
              "      <th>Volume</th>\n",
              "      <th>Adj Close</th>\n",
              "    </tr>\n",
              "    <tr>\n",
              "      <th>Date</th>\n",
              "      <th></th>\n",
              "      <th></th>\n",
              "      <th></th>\n",
              "      <th></th>\n",
              "      <th></th>\n",
              "      <th></th>\n",
              "    </tr>\n",
              "  </thead>\n",
              "  <tbody>\n",
              "    <tr>\n",
              "      <th>2009-12-31</th>\n",
              "      <td>30.478571</td>\n",
              "      <td>30.080000</td>\n",
              "      <td>30.447144</td>\n",
              "      <td>30.104286</td>\n",
              "      <td>88102700.0</td>\n",
              "      <td>20.159719</td>\n",
              "    </tr>\n",
              "    <tr>\n",
              "      <th>2010-01-04</th>\n",
              "      <td>30.642857</td>\n",
              "      <td>30.340000</td>\n",
              "      <td>30.490000</td>\n",
              "      <td>30.572857</td>\n",
              "      <td>123432400.0</td>\n",
              "      <td>20.473503</td>\n",
              "    </tr>\n",
              "    <tr>\n",
              "      <th>2010-01-05</th>\n",
              "      <td>30.798571</td>\n",
              "      <td>30.464285</td>\n",
              "      <td>30.657143</td>\n",
              "      <td>30.625713</td>\n",
              "      <td>150476200.0</td>\n",
              "      <td>20.508902</td>\n",
              "    </tr>\n",
              "    <tr>\n",
              "      <th>2010-01-06</th>\n",
              "      <td>30.747143</td>\n",
              "      <td>30.107143</td>\n",
              "      <td>30.625713</td>\n",
              "      <td>30.138571</td>\n",
              "      <td>138040000.0</td>\n",
              "      <td>20.182680</td>\n",
              "    </tr>\n",
              "    <tr>\n",
              "      <th>2010-01-07</th>\n",
              "      <td>30.285715</td>\n",
              "      <td>29.864286</td>\n",
              "      <td>30.250000</td>\n",
              "      <td>30.082857</td>\n",
              "      <td>119282800.0</td>\n",
              "      <td>20.145369</td>\n",
              "    </tr>\n",
              "    <tr>\n",
              "      <th>...</th>\n",
              "      <td>...</td>\n",
              "      <td>...</td>\n",
              "      <td>...</td>\n",
              "      <td>...</td>\n",
              "      <td>...</td>\n",
              "      <td>...</td>\n",
              "    </tr>\n",
              "    <tr>\n",
              "      <th>2018-12-24</th>\n",
              "      <td>151.550003</td>\n",
              "      <td>146.589996</td>\n",
              "      <td>148.149994</td>\n",
              "      <td>146.830002</td>\n",
              "      <td>37169200.0</td>\n",
              "      <td>146.830002</td>\n",
              "    </tr>\n",
              "    <tr>\n",
              "      <th>2018-12-26</th>\n",
              "      <td>157.229996</td>\n",
              "      <td>146.720001</td>\n",
              "      <td>148.300003</td>\n",
              "      <td>157.169998</td>\n",
              "      <td>58582500.0</td>\n",
              "      <td>157.169998</td>\n",
              "    </tr>\n",
              "    <tr>\n",
              "      <th>2018-12-27</th>\n",
              "      <td>156.770004</td>\n",
              "      <td>150.070007</td>\n",
              "      <td>155.839996</td>\n",
              "      <td>156.149994</td>\n",
              "      <td>53117100.0</td>\n",
              "      <td>156.149994</td>\n",
              "    </tr>\n",
              "    <tr>\n",
              "      <th>2018-12-28</th>\n",
              "      <td>158.520004</td>\n",
              "      <td>154.550003</td>\n",
              "      <td>157.500000</td>\n",
              "      <td>156.229996</td>\n",
              "      <td>42291400.0</td>\n",
              "      <td>156.229996</td>\n",
              "    </tr>\n",
              "    <tr>\n",
              "      <th>2018-12-31</th>\n",
              "      <td>159.360001</td>\n",
              "      <td>156.479996</td>\n",
              "      <td>158.529999</td>\n",
              "      <td>157.740005</td>\n",
              "      <td>35003500.0</td>\n",
              "      <td>157.740005</td>\n",
              "    </tr>\n",
              "  </tbody>\n",
              "</table>\n",
              "<p>2265 rows × 6 columns</p>\n",
              "</div>"
            ],
            "text/plain": [
              "                  High         Low  ...       Volume   Adj Close\n",
              "Date                                ...                         \n",
              "2009-12-31   30.478571   30.080000  ...   88102700.0   20.159719\n",
              "2010-01-04   30.642857   30.340000  ...  123432400.0   20.473503\n",
              "2010-01-05   30.798571   30.464285  ...  150476200.0   20.508902\n",
              "2010-01-06   30.747143   30.107143  ...  138040000.0   20.182680\n",
              "2010-01-07   30.285715   29.864286  ...  119282800.0   20.145369\n",
              "...                ...         ...  ...          ...         ...\n",
              "2018-12-24  151.550003  146.589996  ...   37169200.0  146.830002\n",
              "2018-12-26  157.229996  146.720001  ...   58582500.0  157.169998\n",
              "2018-12-27  156.770004  150.070007  ...   53117100.0  156.149994\n",
              "2018-12-28  158.520004  154.550003  ...   42291400.0  156.229996\n",
              "2018-12-31  159.360001  156.479996  ...   35003500.0  157.740005\n",
              "\n",
              "[2265 rows x 6 columns]"
            ]
          },
          "metadata": {
            "tags": []
          },
          "execution_count": 232
        }
      ]
    },
    {
      "cell_type": "code",
      "metadata": {
        "colab": {
          "base_uri": "https://localhost:8080/",
          "height": 450
        },
        "id": "dVkvHnFtvhNw",
        "outputId": "2229694a-4959-46b1-c6c5-8c850c13bbb1"
      },
      "source": [
        "df_apple[['Volume', 'Adj Close']]"
      ],
      "execution_count": null,
      "outputs": [
        {
          "output_type": "execute_result",
          "data": {
            "text/html": [
              "<div>\n",
              "<style scoped>\n",
              "    .dataframe tbody tr th:only-of-type {\n",
              "        vertical-align: middle;\n",
              "    }\n",
              "\n",
              "    .dataframe tbody tr th {\n",
              "        vertical-align: top;\n",
              "    }\n",
              "\n",
              "    .dataframe thead th {\n",
              "        text-align: right;\n",
              "    }\n",
              "</style>\n",
              "<table border=\"1\" class=\"dataframe\">\n",
              "  <thead>\n",
              "    <tr style=\"text-align: right;\">\n",
              "      <th></th>\n",
              "      <th>Volume</th>\n",
              "      <th>Adj Close</th>\n",
              "    </tr>\n",
              "    <tr>\n",
              "      <th>Date</th>\n",
              "      <th></th>\n",
              "      <th></th>\n",
              "    </tr>\n",
              "  </thead>\n",
              "  <tbody>\n",
              "    <tr>\n",
              "      <th>2009-12-31</th>\n",
              "      <td>88102700.0</td>\n",
              "      <td>20.159719</td>\n",
              "    </tr>\n",
              "    <tr>\n",
              "      <th>2010-01-04</th>\n",
              "      <td>123432400.0</td>\n",
              "      <td>20.473503</td>\n",
              "    </tr>\n",
              "    <tr>\n",
              "      <th>2010-01-05</th>\n",
              "      <td>150476200.0</td>\n",
              "      <td>20.508902</td>\n",
              "    </tr>\n",
              "    <tr>\n",
              "      <th>2010-01-06</th>\n",
              "      <td>138040000.0</td>\n",
              "      <td>20.182680</td>\n",
              "    </tr>\n",
              "    <tr>\n",
              "      <th>2010-01-07</th>\n",
              "      <td>119282800.0</td>\n",
              "      <td>20.145369</td>\n",
              "    </tr>\n",
              "    <tr>\n",
              "      <th>...</th>\n",
              "      <td>...</td>\n",
              "      <td>...</td>\n",
              "    </tr>\n",
              "    <tr>\n",
              "      <th>2018-12-24</th>\n",
              "      <td>37169200.0</td>\n",
              "      <td>146.830002</td>\n",
              "    </tr>\n",
              "    <tr>\n",
              "      <th>2018-12-26</th>\n",
              "      <td>58582500.0</td>\n",
              "      <td>157.169998</td>\n",
              "    </tr>\n",
              "    <tr>\n",
              "      <th>2018-12-27</th>\n",
              "      <td>53117100.0</td>\n",
              "      <td>156.149994</td>\n",
              "    </tr>\n",
              "    <tr>\n",
              "      <th>2018-12-28</th>\n",
              "      <td>42291400.0</td>\n",
              "      <td>156.229996</td>\n",
              "    </tr>\n",
              "    <tr>\n",
              "      <th>2018-12-31</th>\n",
              "      <td>35003500.0</td>\n",
              "      <td>157.740005</td>\n",
              "    </tr>\n",
              "  </tbody>\n",
              "</table>\n",
              "<p>2265 rows × 2 columns</p>\n",
              "</div>"
            ],
            "text/plain": [
              "                 Volume   Adj Close\n",
              "Date                               \n",
              "2009-12-31   88102700.0   20.159719\n",
              "2010-01-04  123432400.0   20.473503\n",
              "2010-01-05  150476200.0   20.508902\n",
              "2010-01-06  138040000.0   20.182680\n",
              "2010-01-07  119282800.0   20.145369\n",
              "...                 ...         ...\n",
              "2018-12-24   37169200.0  146.830002\n",
              "2018-12-26   58582500.0  157.169998\n",
              "2018-12-27   53117100.0  156.149994\n",
              "2018-12-28   42291400.0  156.229996\n",
              "2018-12-31   35003500.0  157.740005\n",
              "\n",
              "[2265 rows x 2 columns]"
            ]
          },
          "metadata": {
            "tags": []
          },
          "execution_count": 235
        }
      ]
    },
    {
      "cell_type": "code",
      "metadata": {
        "colab": {
          "base_uri": "https://localhost:8080/",
          "height": 298
        },
        "id": "1LkTKP4tvB7O",
        "outputId": "2bba8dc2-1bfc-43a2-b97c-dc776ab16751"
      },
      "source": [
        "df_apple[['Volume', 'Adj Close']].plot()"
      ],
      "execution_count": null,
      "outputs": [
        {
          "output_type": "execute_result",
          "data": {
            "text/plain": [
              "<matplotlib.axes._subplots.AxesSubplot at 0x7fb534d706d0>"
            ]
          },
          "metadata": {
            "tags": []
          },
          "execution_count": 236
        },
        {
          "output_type": "display_data",
          "data": {
            "image/png": "[encoded data removed]",
            "text/plain": [
              "<Figure size 432x288 with 1 Axes>"
            ]
          },
          "metadata": {
            "tags": [],
            "needs_background": "light"
          }
        }
      ]
    },
    {
      "cell_type": "code",
      "metadata": {
        "colab": {
          "base_uri": "https://localhost:8080/",
          "height": 287
        },
        "id": "es1rZZDkvfDd",
        "outputId": "16215074-a070-4bec-ed18-dbc566d455ae"
      },
      "source": [
        "# 폭이 넓지 않아서 위의 그림에서는 일정한 것처럼 나타난다.\r\n",
        "df_apple[['Adj Close']].plot()"
      ],
      "execution_count": null,
      "outputs": [
        {
          "output_type": "execute_result",
          "data": {
            "text/plain": [
              "<matplotlib.axes._subplots.AxesSubplot at 0x7fb534c83450>"
            ]
          },
          "metadata": {
            "tags": []
          },
          "execution_count": 238
        },
        {
          "output_type": "display_data",
          "data": {
            "image/png": "[encoded data removed]",
            "text/plain": [
              "<Figure size 432x288 with 1 Axes>"
            ]
          },
          "metadata": {
            "tags": [],
            "needs_background": "light"
          }
        }
      ]
    },
    {
      "cell_type": "code",
      "metadata": {
        "colab": {
          "base_uri": "https://localhost:8080/",
          "height": 298
        },
        "id": "IPayH0M5vxnp",
        "outputId": "49729782-fa25-4774-95e2-26f85308c811"
      },
      "source": [
        "# y축 범위 다르게 해서 한번에 그래프 두 개 그리기 : secondary_y 옵션 사용!\r\n",
        "df_apple[['Volume', 'Adj Close']].plot(secondary_y=['Volume'])"
      ],
      "execution_count": null,
      "outputs": [
        {
          "output_type": "execute_result",
          "data": {
            "text/plain": [
              "<matplotlib.axes._subplots.AxesSubplot at 0x7fb534c6a9d0>"
            ]
          },
          "metadata": {
            "tags": []
          },
          "execution_count": 239
        },
        {
          "output_type": "display_data",
          "data": {
            "image/png": "[encoded data removed]",
            "text/plain": [
              "<Figure size 432x288 with 2 Axes>"
            ]
          },
          "metadata": {
            "tags": [],
            "needs_background": "light"
          }
        }
      ]
    },
    {
      "cell_type": "code",
      "metadata": {
        "colab": {
          "base_uri": "https://localhost:8080/",
          "height": 468
        },
        "id": "K01LYewNv_5i",
        "outputId": "71195477-96eb-4b3c-8164-2fa55a91b093"
      },
      "source": [
        "df_apple[['Adj Close']].plot(figsize=(12,8))\r\n",
        "plt.ylabel('Close Price')\r\n",
        "plt.xlabel('Overwrite Date')\r\n",
        "plt.title('APPLE')"
      ],
      "execution_count": null,
      "outputs": [
        {
          "output_type": "execute_result",
          "data": {
            "text/plain": [
              "Text(0.5, 1.0, 'APPLE')"
            ]
          },
          "metadata": {
            "tags": []
          },
          "execution_count": 245
        },
        {
          "output_type": "display_data",
          "data": {
            "image/png": "[encoded data removed]",
            "text/plain": [
              "<Figure size 864x576 with 1 Axes>"
            ]
          },
          "metadata": {
            "tags": [],
            "needs_background": "light"
          }
        }
      ]
    },
    {
      "cell_type": "code",
      "metadata": {
        "colab": {
          "base_uri": "https://localhost:8080/"
        },
        "id": "eenMLFXewTKF",
        "outputId": "7ccf5f11-f919-4174-ea61-d2b5fcd7524f"
      },
      "source": [
        "df_apple['Adj Close']['2015-01-01':'2018-01-01'] # 범위 지정"
      ],
      "execution_count": null,
      "outputs": [
        {
          "output_type": "execute_result",
          "data": {
            "text/plain": [
              "Date\n",
              "2015-01-02    101.963631\n",
              "2015-01-05     99.091148\n",
              "2015-01-06     99.100471\n",
              "2015-01-07    100.490089\n",
              "2015-01-08    104.351151\n",
              "                 ...    \n",
              "2017-12-22    172.421402\n",
              "2017-12-26    168.047089\n",
              "2017-12-27    168.076645\n",
              "2017-12-28    168.549545\n",
              "2017-12-29    166.726913\n",
              "Name: Adj Close, Length: 755, dtype: float64"
            ]
          },
          "metadata": {
            "tags": []
          },
          "execution_count": 246
        }
      ]
    },
    {
      "cell_type": "code",
      "metadata": {
        "colab": {
          "base_uri": "https://localhost:8080/",
          "height": 295
        },
        "id": "F_iGQRnTwqTk",
        "outputId": "2de4b87e-8181-4747-a796-41799e077071"
      },
      "source": [
        "df_apple['Adj Close']['2015-01-01':'2018-01-01'].plot()"
      ],
      "execution_count": null,
      "outputs": [
        {
          "output_type": "execute_result",
          "data": {
            "text/plain": [
              "<matplotlib.axes._subplots.AxesSubplot at 0x7fb5342c50d0>"
            ]
          },
          "metadata": {
            "tags": []
          },
          "execution_count": 252
        },
        {
          "output_type": "display_data",
          "data": {
            "image/png": "[encoded data removed]",
            "text/plain": [
              "<Figure size 432x288 with 1 Axes>"
            ]
          },
          "metadata": {
            "tags": [],
            "needs_background": "light"
          }
        }
      ]
    },
    {
      "cell_type": "code",
      "metadata": {
        "colab": {
          "base_uri": "https://localhost:8080/",
          "height": 299
        },
        "id": "G09_l2A9wvD-",
        "outputId": "62aba25e-f7ad-41ff-c62e-a8e913ac010d"
      },
      "source": [
        "df_apple['Adj Close'].plot(xlim=['2015-01-01','2018-01-01'],\r\n",
        "                           ylim=[70, 180])"
      ],
      "execution_count": null,
      "outputs": [
        {
          "output_type": "execute_result",
          "data": {
            "text/plain": [
              "<matplotlib.axes._subplots.AxesSubplot at 0x7fb534299e90>"
            ]
          },
          "metadata": {
            "tags": []
          },
          "execution_count": 254
        },
        {
          "output_type": "display_data",
          "data": {
            "image/png": "[encoded data removed]",
            "text/plain": [
              "<Figure size 432x288 with 1 Axes>"
            ]
          },
          "metadata": {
            "tags": [],
            "needs_background": "light"
          }
        }
      ]
    },
    {
      "cell_type": "code",
      "metadata": {
        "colab": {
          "base_uri": "https://localhost:8080/"
        },
        "id": "AxQsc0L8xEYj",
        "outputId": "35bb27f7-3364-48b3-e11e-de8d56a0aec8"
      },
      "source": [
        "index = df_apple['2015-01-01':'2018-01-01'].index\r\n",
        "stock = df_apple['2015-01-01':'2018-01-01']['Adj Close']\r\n",
        "print(index)\r\n",
        "print('='*50)\r\n",
        "print(stock)"
      ],
      "execution_count": null,
      "outputs": [
        {
          "output_type": "stream",
          "text": [
            "DatetimeIndex(['2015-01-02', '2015-01-05', '2015-01-06', '2015-01-07',\n",
            "               '2015-01-08', '2015-01-09', '2015-01-12', '2015-01-13',\n",
            "               '2015-01-14', '2015-01-15',\n",
            "               ...\n",
            "               '2017-12-15', '2017-12-18', '2017-12-19', '2017-12-20',\n",
            "               '2017-12-21', '2017-12-22', '2017-12-26', '2017-12-27',\n",
            "               '2017-12-28', '2017-12-29'],\n",
            "              dtype='datetime64[ns]', name='Date', length=755, freq=None)\n",
            "==================================================\n",
            "Date\n",
            "2015-01-02    101.963631\n",
            "2015-01-05     99.091148\n",
            "2015-01-06     99.100471\n",
            "2015-01-07    100.490089\n",
            "2015-01-08    104.351151\n",
            "                 ...    \n",
            "2017-12-22    172.421402\n",
            "2017-12-26    168.047089\n",
            "2017-12-27    168.076645\n",
            "2017-12-28    168.549545\n",
            "2017-12-29    166.726913\n",
            "Name: Adj Close, Length: 755, dtype: float64\n"
          ],
          "name": "stdout"
        }
      ]
    },
    {
      "cell_type": "code",
      "metadata": {
        "colab": {
          "base_uri": "https://localhost:8080/",
          "height": 297
        },
        "id": "cXHwj4VAxiwo",
        "outputId": "0316f337-baea-4856-8f08-dbfe8000e4c7"
      },
      "source": [
        "fig, ax = plt.subplots()\r\n",
        "ax.plot_date(index, stock, '-')\r\n",
        "fig.autofmt_xdate() # x축 이름들끼리 겹치는 것을 알아서 고쳐서 눕혀준다.\r\n",
        "plt.tight_layout() # 그래프들 끼리 겹쳐서 출력될 때 사용해보는 메소드"
      ],
      "execution_count": null,
      "outputs": [
        {
          "output_type": "display_data",
          "data": {
            "image/png": "[encoded data removed]",
            "text/plain": [
              "<Figure size 432x288 with 1 Axes>"
            ]
          },
          "metadata": {
            "tags": [],
            "needs_background": "light"
          }
        }
      ]
    },
    {
      "cell_type": "code",
      "metadata": {
        "colab": {
          "base_uri": "https://localhost:8080/",
          "height": 605
        },
        "id": "_xWr6FMXzBEr",
        "outputId": "ba0ae088-2e14-41da-a577-7444acc91a28"
      },
      "source": [
        "import matplotlib.dates as dates\r\n",
        "\r\n",
        "fig, ax = plt.subplots(figsize=(15,8))\r\n",
        "ax.plot_date(index, stock, '-')\r\n",
        "ax.xaxis.set_major_locator(dates.MonthLocator())\r\n",
        "ax.xaxis.set_major_formatter(dates.DateFormatter('%b\\n%Y')) # 포맷 변경\r\n",
        "fig.autofmt_xdate() \r\n",
        "plt.tight_layout() "
      ],
      "execution_count": null,
      "outputs": [
        {
          "output_type": "display_data",
          "data": {
            "image/png": "[encoded data removed]",
            "text/plain": [
              "<Figure size 1080x576 with 1 Axes>"
            ]
          },
          "metadata": {
            "tags": [],
            "needs_background": "light"
          }
        }
      ]
    },
    {
      "cell_type": "code",
      "metadata": {
        "id": "w3WgLJPm0VKb"
      },
      "source": [
        ""
      ],
      "execution_count": null,
      "outputs": []
    }
  ]
}